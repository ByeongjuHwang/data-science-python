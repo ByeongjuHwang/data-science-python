{
  "nbformat": 4,
  "nbformat_minor": 0,
  "metadata": {
    "colab": {
      "provenance": [],
      "include_colab_link": true
    },
    "kernelspec": {
      "name": "python3",
      "display_name": "Python 3"
    }
  },
  "cells": [
    {
      "cell_type": "markdown",
      "metadata": {
        "id": "view-in-github",
        "colab_type": "text"
      },
      "source": [
        "<a href=\"https://colab.research.google.com/github/ByeongjuHwang/data-science-python/blob/main/03_Variable%2C_Type%2C_Operation.ipynb\" target=\"_parent\"><img src=\"https://colab.research.google.com/assets/colab-badge.svg\" alt=\"Open In Colab\"/></a>"
      ]
    },
    {
      "cell_type": "markdown",
      "metadata": {
        "id": "6XGDdKnJyGJF"
      },
      "source": [
        "# 변수, 자료형, 연산자\n",
        "\n"
      ]
    },
    {
      "cell_type": "markdown",
      "metadata": {
        "id": "HAstuUfPCTnB"
      },
      "source": [
        "\n",
        "\n",
        "---\n",
        "\n"
      ]
    },
    {
      "cell_type": "markdown",
      "metadata": {
        "id": "90qvtJp_yMg4"
      },
      "source": [
        "\n",
        "## 변수(Variables)\n",
        "\n",
        "- 값을 저장할 때 사용하는 식별자.\n",
        "- 이름은 ‘변수’이지만 숫자뿐만 아니라 모든 자료형을 저장할 수 있다.\n",
        "\n",
        "* 선언: 변수를 사용하려면 식별자는 무엇이고, 어떤 데이터를 가진다라는 것을 알려줘야 하는데, 이는 변수를 ‘선언한다’라고 한다.\n",
        "* 할당: 변수에 값을 넣는 것을 ‘할당한다’라고 한다\n",
        "\n",
        "  * → 메모리에 변수의 값이 들어갈 공간을 할당해야 하므로!\n",
        "* 참조: 변수에 접근하는 것을 ‘참조한다’라고 한다\n",
        "\n",
        "  * → 결국 변수가 저장된 메모리에 접근하는 것인데, 이 메모리의 ‘주소’를 창조한다고 생각하면 됩니다!"
      ]
    },
    {
      "cell_type": "code",
      "metadata": {
        "id": "Wnq3OFyHy3FV",
        "colab": {
          "base_uri": "https://localhost:8080/"
        },
        "outputId": "fdeda44e-4bf3-4b6c-f079-bd2fb426f6f8"
      },
      "source": [
        "num = 5\n",
        "print(num)"
      ],
      "execution_count": 1,
      "outputs": [
        {
          "output_type": "stream",
          "name": "stdout",
          "text": [
            "5\n"
          ]
        }
      ]
    },
    {
      "cell_type": "markdown",
      "metadata": {
        "id": "RJfm_0kbyZih"
      },
      "source": [
        "### 변수명 규칙\n"
      ]
    },
    {
      "cell_type": "code",
      "metadata": {
        "id": "SPyXej-mys0A",
        "colab": {
          "base_uri": "https://localhost:8080/"
        },
        "outputId": "1bca6b74-fe72-4ef7-959e-f881c7acb39e"
      },
      "source": [
        "a = 1\n",
        "b = 2\n",
        "_a = 3\n",
        "_b = 4\n",
        "# 1a = 5 error syntax\n",
        "# print = 3 error type\n",
        "\n",
        "print(a, b, _a, _b)\n",
        "\n",
        "num_string = ['one', 'two', 'three']\n",
        "NumString = ['four', 'five']"
      ],
      "execution_count": 2,
      "outputs": [
        {
          "output_type": "stream",
          "name": "stdout",
          "text": [
            "1 2 3 4\n"
          ]
        }
      ]
    },
    {
      "cell_type": "markdown",
      "metadata": {
        "id": "IzVR_OF3CV7l"
      },
      "source": [
        "\n",
        "\n",
        "---\n",
        "\n"
      ]
    },
    {
      "cell_type": "markdown",
      "metadata": {
        "id": "UnmfTSSR7gI8"
      },
      "source": [
        "## 자료형(Data Types)\n",
        "\n"
      ]
    },
    {
      "cell_type": "markdown",
      "metadata": {
        "id": "E6w1S0AG7093"
      },
      "source": [
        "### 불리언형 자료형(Boolean Type)\n",
        "\n",
        "* 불리언은 `True`와 `False` 값으로만 표현할 때 사용하는 자료형\n",
        "* 예제 코드에서 변수 `b`에 `True` 값을 넣으면 불리언 자료형으로 결정\n",
        "* 자료형을 반환하는 내장함수 `type()` 함수를 이용하여 자료형을 확인하면 `bool`로 반환된 결과를 볼 수 있음"
      ]
    },
    {
      "cell_type": "code",
      "metadata": {
        "id": "VEmJO0Hl7uSL",
        "colab": {
          "base_uri": "https://localhost:8080/"
        },
        "outputId": "05882b82-dc31-4a07-f3e2-1ee01a8c5657"
      },
      "source": [
        "b = True\n",
        "print(b)\n",
        "print(type(b))\n",
        "\n",
        "c = False\n",
        "print(c)\n",
        "print(type(c))"
      ],
      "execution_count": 4,
      "outputs": [
        {
          "output_type": "stream",
          "name": "stdout",
          "text": [
            "True\n",
            "<class 'bool'>\n",
            "False\n",
            "<class 'bool'>\n"
          ]
        }
      ]
    },
    {
      "cell_type": "markdown",
      "metadata": {
        "id": "zEQ7zJg8aafd"
      },
      "source": [
        "### 정수형 자료형(Integer Type)"
      ]
    },
    {
      "cell_type": "markdown",
      "metadata": {
        "id": "QyQdYV_If3kQ"
      },
      "source": [
        "#### 10진수(Decimal)\n",
        "\n",
        "* 10진수는 일반적인 숫자 표현을 그대로 사용\n",
        "* 변수 `i`에 10진수로 숫자 10을 값으로 넣고, `type()` 함수를 통해 자료형을 확인하기\n"
      ]
    },
    {
      "cell_type": "code",
      "metadata": {
        "id": "Mt5AV2bR8NFr",
        "colab": {
          "base_uri": "https://localhost:8080/"
        },
        "outputId": "53059699-3168-4884-a02b-4e4810d8e651"
      },
      "source": [
        "i = 11\n",
        "print(i)\n",
        "print(type(i))"
      ],
      "execution_count": 5,
      "outputs": [
        {
          "output_type": "stream",
          "name": "stdout",
          "text": [
            "11\n",
            "<class 'int'>\n"
          ]
        }
      ]
    },
    {
      "cell_type": "code",
      "metadata": {
        "id": "N8_q8Dx-j98M",
        "colab": {
          "base_uri": "https://localhost:8080/"
        },
        "outputId": "e45a1569-9cb8-4101-860f-be26e7300078"
      },
      "source": [
        "j = 23\n",
        "print(j)\n",
        "print(type(j))"
      ],
      "execution_count": 6,
      "outputs": [
        {
          "output_type": "stream",
          "name": "stdout",
          "text": [
            "23\n",
            "<class 'int'>\n"
          ]
        }
      ]
    },
    {
      "cell_type": "markdown",
      "metadata": {
        "id": "oXUZbCF_z4ks"
      },
      "source": [
        "#### 2진수(Binary)\n",
        "\n",
        "* 2진수는 앞에 `0b`를 붙여서 표현\n",
        "* 변수 `b`에 2진수 표현으로 `0b010`을 넣고, `type()` 함수를 통해 자료형을 확인하기"
      ]
    },
    {
      "cell_type": "code",
      "metadata": {
        "id": "xxmW8Xp0u01Q",
        "colab": {
          "base_uri": "https://localhost:8080/"
        },
        "outputId": "502e9d80-9c69-45f5-fb29-e8cd4de57c8f"
      },
      "source": [
        "b = 0b010\n",
        "print(b)\n",
        "print(type(b))\n",
        "\n",
        "b2 = 0b111 # 4 + 2 + 1 = 7\n",
        "print(b2)\n",
        "print(type(b2))"
      ],
      "execution_count": 9,
      "outputs": [
        {
          "output_type": "stream",
          "name": "stdout",
          "text": [
            "2\n",
            "<class 'int'>\n",
            "7\n",
            "<class 'int'>\n"
          ]
        }
      ]
    },
    {
      "cell_type": "markdown",
      "metadata": {
        "id": "uWuYvhlMz-pL"
      },
      "source": [
        "#### 8진수(Octal)\n",
        "\n",
        "* 8진수는 앞에 `0o`를 붙여서 표현\n",
        "* 변수 `o`에 8진수 표현으로 `0o130`을 넣고 확인하기"
      ]
    },
    {
      "cell_type": "code",
      "metadata": {
        "id": "uS9NsK2ZYU8l",
        "colab": {
          "base_uri": "https://localhost:8080/"
        },
        "outputId": "3c4f73ec-f2b5-43a0-9713-a17c6e01fe8f"
      },
      "source": [
        "o = 0o130\n",
        "print(o)\n",
        "print(type(o))"
      ],
      "execution_count": 10,
      "outputs": [
        {
          "output_type": "stream",
          "name": "stdout",
          "text": [
            "88\n",
            "<class 'int'>\n"
          ]
        }
      ]
    },
    {
      "cell_type": "markdown",
      "metadata": {
        "id": "ObGeQFIA0CfR"
      },
      "source": [
        "#### 16진수(Hexadecimal)\n",
        "\n",
        "* 16진수은 앞에 `0x`를 붙여서 표현\n",
        "* 변수 `h`에 16진수 표현으로 `0xABC`를 넣고 확인하기\n",
        "* 16진수는 10진수와 달리 10부터 A에서 F까지 알파벳을 사용하여 표현"
      ]
    },
    {
      "cell_type": "code",
      "metadata": {
        "id": "t6AMAPRLYVHG",
        "colab": {
          "base_uri": "https://localhost:8080/"
        },
        "outputId": "88b05f01-763b-496f-c8c3-71a3f9292ccf"
      },
      "source": [
        "# 10: A, 11: B, 12: C, 13: D, 14: E, 15: F, 16:10\n",
        "h = 0xABC\n",
        "print(h)\n",
        "print(type(h))"
      ],
      "execution_count": 11,
      "outputs": [
        {
          "output_type": "stream",
          "name": "stdout",
          "text": [
            "2748\n",
            "<class 'int'>\n"
          ]
        }
      ]
    },
    {
      "cell_type": "markdown",
      "metadata": {
        "id": "ExS5VLXYgC0K"
      },
      "source": [
        "### 실수형 자료형(Floating-Point Type)\n",
        "\n",
        "* 실수형 자료형 표현은 고정소수점과 부동소수점으로 구분"
      ]
    },
    {
      "cell_type": "markdown",
      "metadata": {
        "id": "o9wEy__Akh68"
      },
      "source": [
        "#### 고정소수점(Fixed-Point)\n",
        "\n",
        "* 기본적으로 고정된 자리수의 소수를 사용하는 고정소수점 방식\n",
        "* 실수형 변수 `f`에 소수점이 포함된 `12.34` 값을 넣고 확인하기\n",
        "* `type(f)`를 통해서 결과를 확인해보면 실수형(float) 자료형으로 출력\n",
        "* 파이썬에서는 소수에서 정수부가 0인 경우에는 제외해서 표현 가능\n",
        "* 코드에서 값 `.123`은 `0.123`을 의미"
      ]
    },
    {
      "cell_type": "code",
      "metadata": {
        "id": "zRx3Lg_soF-d",
        "colab": {
          "base_uri": "https://localhost:8080/"
        },
        "outputId": "15f2e6e6-3532-403f-ed01-1c8097fad83b"
      },
      "source": [
        "f = 12.34\n",
        "print(f)\n",
        "print(type(f))"
      ],
      "execution_count": 12,
      "outputs": [
        {
          "output_type": "stream",
          "name": "stdout",
          "text": [
            "12.34\n",
            "<class 'float'>\n"
          ]
        }
      ]
    },
    {
      "cell_type": "code",
      "metadata": {
        "id": "YLdTH0EtgupN",
        "colab": {
          "base_uri": "https://localhost:8080/"
        },
        "outputId": "6b71e33d-850d-430d-db96-6ee9b46c357b"
      },
      "source": [
        "f2 = 0.34\n",
        "f3 = .34\n",
        "print(f2, f3)\n",
        "\n",
        "if f2 == f3:\n",
        "  print('same')"
      ],
      "execution_count": 14,
      "outputs": [
        {
          "output_type": "stream",
          "name": "stdout",
          "text": [
            "0.34 0.34\n",
            "same\n"
          ]
        }
      ]
    },
    {
      "cell_type": "markdown",
      "metadata": {
        "id": "NSsefZL8hx83"
      },
      "source": [
        "#### 부동소수점(Floating-Point)\n",
        "\n",
        "* 컴퓨터에서 소수점의 위치가 고정되지 않고 넓은 범위의 값을 근사하여 표현하는 부동소수점 방식이 있음\n",
        "* 파이썬에서는 e 기호를 이용하여 지수에 대한 표현을 사용\n",
        "* `e` 변수에 할당한 `1234e-2` 라는 표현은 $1234 \\times 10^{-2}$를 의미하고 실제 결과 값은 12.34\n",
        "* `type(e)` 함수를 통해 타입을 확인해보면 실수형\n",
        "* 마찬가지로 `123e-3`은 $123 \\times 10^{-3}$를 의미하며 결과는 0.123"
      ]
    },
    {
      "cell_type": "code",
      "metadata": {
        "id": "VflCID3tgVrO",
        "colab": {
          "base_uri": "https://localhost:8080/"
        },
        "outputId": "30e35416-7b76-4514-8e5e-fd86dba85a6a"
      },
      "source": [
        "e = 1234e-2\n",
        "f = 12.34\n",
        "print(e, f)\n",
        "print(type(e))\n",
        "\n",
        "if e == f:\n",
        "  print(\"same\")"
      ],
      "execution_count": 15,
      "outputs": [
        {
          "output_type": "stream",
          "name": "stdout",
          "text": [
            "12.34 12.34\n",
            "<class 'float'>\n",
            "same\n"
          ]
        }
      ]
    },
    {
      "cell_type": "code",
      "metadata": {
        "id": "CmJN7I6EgVxT"
      },
      "source": [],
      "execution_count": null,
      "outputs": []
    },
    {
      "cell_type": "markdown",
      "metadata": {
        "id": "B6TXm4YJoGFF"
      },
      "source": [
        "###복소수형 자료형(Complex Type)\n",
        "\n",
        "* 복소수(complex number)는 임의의 실수 $a$, $b$에 대해 $a + bi$의 꼴로 나타내는 수를 의미\n",
        "* 여기서 $a$는 실수, $b$는 허수 부분\n",
        "* i는 제곱하여 -1이 되는 수로 허수(imaginary number) 단위라고 함\n",
        "* 파이썬에서는 i 대신에 j 또는 J로 표현\n",
        "* $1 + 23j$와 같이 복소수로 표현하기\n",
        "* `print()` 함수를 이용해 출력한 결과 `(1+23j)`\n",
        "* 실수부는 `c.real`로 허수부는 `c.imag`로 출력\n",
        "* 복소수의 경우에는 `type()` 함수로 타입을 살펴보면 결과는 'complex'"
      ]
    },
    {
      "cell_type": "code",
      "metadata": {
        "id": "0I7Dr_S1sp_a",
        "colab": {
          "base_uri": "https://localhost:8080/"
        },
        "outputId": "0345bd50-f133-4be6-e769-b203d4ba1fc9"
      },
      "source": [
        "k = 1+23j\n",
        "print(k)\n",
        "print(type(k))\n",
        "\n",
        "print(k.real)\n",
        "print(k.imag)"
      ],
      "execution_count": 17,
      "outputs": [
        {
          "output_type": "stream",
          "name": "stdout",
          "text": [
            "(1+23j)\n",
            "<class 'complex'>\n",
            "1.0\n",
            "23.0\n"
          ]
        }
      ]
    },
    {
      "cell_type": "markdown",
      "metadata": {
        "id": "-KDyVNOYErfS"
      },
      "source": [
        "### 문자열 자료형(String Type)\n",
        "\n",
        "* 문자열(string)은 문자들의 집합을 의미\n",
        "* 문자열을 저장하는 변수를 문자열 변수라고 함\n",
        "\n",
        "```python\n",
        "string = \"takjakim\"\n",
        "print(string)\n",
        "print(type(string))\n",
        "```"
      ]
    },
    {
      "cell_type": "code",
      "metadata": {
        "id": "vMbIM94dEq85",
        "colab": {
          "base_uri": "https://localhost:8080/"
        },
        "outputId": "c7fc0956-55d4-4a92-cf80-3bca3879c183"
      },
      "source": [
        "string = \"hanyang\"\n",
        "print(string)\n",
        "print(type(string))\n",
        "\n",
        "string2 = 'university'\n",
        "print(string2)\n",
        "print(type(string2))"
      ],
      "execution_count": 19,
      "outputs": [
        {
          "output_type": "stream",
          "name": "stdout",
          "text": [
            "hanyang\n",
            "<class 'str'>\n",
            "university\n",
            "<class 'str'>\n"
          ]
        }
      ]
    },
    {
      "cell_type": "markdown",
      "metadata": {
        "id": "mCkLTLt_GkqB"
      },
      "source": [
        "### 리스트 자료형(List Type)\n",
        "\n",
        "* 리스트(list)는 여러 값을 하나의 변수에 담을 수 있는 자료형\n",
        "* 대괄호 안에 여러 값을 쉽표를 구분자로 표현하여 리스트 변수 생성\n",
        "* 간단하게 리스트 생성과 출력을 위해 변수 `l` 안에 값 1, 2, 3을 넣어보자\n",
        "* 자료형을 출력해보면 'list'라는 결과 값을 가지는 것을 알 수 있음"
      ]
    },
    {
      "cell_type": "code",
      "metadata": {
        "id": "Y_KxRefG_AlV",
        "colab": {
          "base_uri": "https://localhost:8080/"
        },
        "outputId": "7efc698e-3270-414a-f15b-ec2b8917fc25"
      },
      "source": [
        "l = [1, 2, 3]\n",
        "print(l)\n",
        "print(type(l))"
      ],
      "execution_count": 20,
      "outputs": [
        {
          "output_type": "stream",
          "name": "stdout",
          "text": [
            "[1, 2, 3]\n",
            "<class 'list'>\n"
          ]
        }
      ]
    },
    {
      "cell_type": "markdown",
      "metadata": {
        "id": "YyMEboAsJA_f"
      },
      "source": [
        "* 리스트 자료형은 같은 자료형이 아니라 다른 자료형을 가지는 값들도 포함하여 구성 가능\n",
        "* 숫자와 문자열이 포함된 리스트 변수 사용하기"
      ]
    },
    {
      "cell_type": "code",
      "metadata": {
        "id": "_RxMxJkRILKq",
        "colab": {
          "base_uri": "https://localhost:8080/"
        },
        "outputId": "abdf1ccf-23a2-4b6a-9bfa-b87f97892fb9"
      },
      "source": [
        "li = [1, \"two\", 3, \"four\"]\n",
        "print(li)\n",
        "print(type(li))\n",
        "\n",
        "li[0] = 11\n",
        "print(li)"
      ],
      "execution_count": 22,
      "outputs": [
        {
          "output_type": "stream",
          "name": "stdout",
          "text": [
            "[1, 'two', 3, 'four']\n",
            "<class 'list'>\n",
            "[11, 'two', 3, 'four']\n"
          ]
        }
      ]
    },
    {
      "cell_type": "markdown",
      "metadata": {
        "id": "NrO0CmiFJTet"
      },
      "source": [
        "### 튜플 자료형(Tuple Type)\n",
        "\n",
        "* 튜플 자료형은 리스트 자료형과 유사하지만 생성, 삭제, 수정이 불가\n",
        "* 튜플은 괄호 안에 여러 값을 쉼표로 구분하여 사용\n",
        "* 변수 `t` 안에 값 1, 2, 3을 저장하고, 변수와 변수의 타입을 출력하기\n",
        "\n",
        "```python\n",
        "t = (1,2,3)\n",
        "print(t)\n",
        "print(type(t))\n",
        "```"
      ]
    },
    {
      "cell_type": "code",
      "metadata": {
        "id": "_Wm3Q7k_JPaX",
        "colab": {
          "base_uri": "https://localhost:8080/"
        },
        "outputId": "c0866f9b-2481-4653-aa9a-7e0bdd9f2405"
      },
      "source": [
        "t = (1, 2, 3)\n",
        "print(t)\n",
        "print(type(t))\n",
        "\n",
        "# t[0] = 5 typeError 튜플은 데이터 변경이 불가능하다."
      ],
      "execution_count": 24,
      "outputs": [
        {
          "output_type": "stream",
          "name": "stdout",
          "text": [
            "(1, 2, 3)\n",
            "<class 'tuple'>\n"
          ]
        }
      ]
    },
    {
      "cell_type": "markdown",
      "metadata": {
        "id": "xQJGvN1CVGST"
      },
      "source": [
        "### 범위 자료형(Range Type)\n",
        "\n",
        "* 불변한 숫자 시퀀스 자료형"
      ]
    },
    {
      "cell_type": "code",
      "metadata": {
        "id": "efGjqZz7VGqz",
        "colab": {
          "base_uri": "https://localhost:8080/"
        },
        "outputId": "fb435d40-e377-401d-c5a4-fe06a2fbfd63"
      },
      "source": [
        "r = range(0, 100)\n",
        "print(r)\n",
        "print(type(r))\n",
        "\n",
        "for r in range(0, 10):\n",
        "  print(r)"
      ],
      "execution_count": 26,
      "outputs": [
        {
          "output_type": "stream",
          "name": "stdout",
          "text": [
            "range(0, 100)\n",
            "<class 'range'>\n",
            "0\n",
            "1\n",
            "2\n",
            "3\n",
            "4\n",
            "5\n",
            "6\n",
            "7\n",
            "8\n",
            "9\n"
          ]
        }
      ]
    },
    {
      "cell_type": "markdown",
      "metadata": {
        "id": "cjPLDAii4Oj7"
      },
      "source": [
        "### 집합 자료형(Set Type)\n",
        "\n",
        "* 집합 자료형은 *중복과 순서가 없다*는 특징을 가지며 집합 처리를 쉽게할 수 있음\n",
        "* 집합은 중괄호를 이용해서 값을 쉼표로 구분하여 넣음\n",
        "* 변수 `s` 안에 값 2, 3, 1을 넣고 변수 `s`의 값과 타입을 출력한 예제\n",
        "* 변경 불가능한 집합 자료형으로 frozenset이 있음\n",
        "```python\n",
        "s = {2,3,1}\n",
        "fs = frozenset(s)\n",
        "```"
      ]
    },
    {
      "cell_type": "code",
      "metadata": {
        "id": "ZvEn8hlvKDaE",
        "colab": {
          "base_uri": "https://localhost:8080/"
        },
        "outputId": "c8f4dceb-5a2a-46e0-b407-7d60116bc3b8"
      },
      "source": [
        "s = {2, 3, 1}\n",
        "print(s)\n",
        "print(type(s))\n",
        "\n",
        "fs = frozenset(s)\n",
        "print(fs)\n",
        "print(type(fs))"
      ],
      "execution_count": 31,
      "outputs": [
        {
          "output_type": "stream",
          "name": "stdout",
          "text": [
            "{1, 2, 3}\n",
            "<class 'set'>\n",
            "frozenset({1, 2, 3})\n",
            "<class 'frozenset'>\n"
          ]
        }
      ]
    },
    {
      "cell_type": "markdown",
      "metadata": {
        "id": "9O8GBpoTa1HO"
      },
      "source": [
        "### 딕셔너리 자료형(Dictionary Type)\n",
        "\n",
        "* 딕셔너리 자료형은 다른 자료형과 달리 키(key)와 값(value)를 한 쌍으로 갖는 자료형\n",
        "* 변수 `d`에 키와 값을 구분자 `:`를 이용해서 쌍으로 묶어서 `1: 'One', 2: 'Two'` 형태로 넣을 수 있음\n",
        "* 중괄호 사용!\n",
        "```python\n",
        "d = {1: 'one', 2:'two'}\n",
        "print(d)\n",
        "print(type(d))\n",
        "```"
      ]
    },
    {
      "cell_type": "code",
      "metadata": {
        "id": "9R-eJj_ja1oD",
        "colab": {
          "base_uri": "https://localhost:8080/"
        },
        "outputId": "8d5c4b7e-84ee-4c78-e44a-d49ca56e8615"
      },
      "source": [
        "d = {1: 'one', 2: 'two'}\n",
        "print(d)\n",
        "print(type(d))"
      ],
      "execution_count": 32,
      "outputs": [
        {
          "output_type": "stream",
          "name": "stdout",
          "text": [
            "{1: 'one', 2: 'two'}\n",
            "<class 'dict'>\n"
          ]
        }
      ]
    },
    {
      "cell_type": "markdown",
      "metadata": {
        "id": "rbjYd180xOgd"
      },
      "source": [
        "### 바이트 시퀀스형(Byte Sequence Type)\n",
        "\n",
        "* 바이트 자료형은 1바이트 단위의 값을 연속적으로 저장하는 시퀀스 자료형\n",
        "* 1바이트는 8비트에 해당하며, 정수값 0 ~ 255(0x00~0xFF) 사용\n",
        "* 이진 데이터로 사용되어지거나 1바이트 문자로 고정을 위해 사용\n",
        "* 유니코드가 아닌 문자열을 사용하는 것과 유사\n",
        "* 바이트 자료형의 시퀀스 형태로 `bytearray` 자료형 사용\n",
        "* 바이트 자료형의 메모리 값의 표현으로 `memoryview` 자료형 사용\n"
      ]
    },
    {
      "cell_type": "code",
      "metadata": {
        "id": "N364DWyAuinp",
        "colab": {
          "base_uri": "https://localhost:8080/"
        },
        "outputId": "c6a32141-4d97-42ac-8a95-20ea2640189e"
      },
      "source": [
        "byte = b'\\x00'\n",
        "print(byte)\n",
        "print(type(byte))"
      ],
      "execution_count": 33,
      "outputs": [
        {
          "output_type": "stream",
          "name": "stdout",
          "text": [
            "b'\\x00'\n",
            "<class 'bytes'>\n"
          ]
        }
      ]
    },
    {
      "cell_type": "markdown",
      "metadata": {
        "id": "aYEHLAuDCZcj"
      },
      "source": [
        "\n",
        "\n",
        "---\n",
        "\n"
      ]
    },
    {
      "cell_type": "markdown",
      "metadata": {
        "id": "RsSgmmjFXFAS"
      },
      "source": [
        "## 자료형 변환"
      ]
    },
    {
      "cell_type": "markdown",
      "metadata": {
        "id": "-FxX0V7IUgl9"
      },
      "source": [
        "#### bool()\n",
        "\n",
        "* `bool()` 함수는 다양한 자료형을 불리언형으로 변환\n",
        "* `0`이나 `False` 값이 아닌 경우는 모두 True로 변환"
      ]
    },
    {
      "cell_type": "code",
      "metadata": {
        "id": "levVjrt-UPGE",
        "colab": {
          "base_uri": "https://localhost:8080/"
        },
        "outputId": "b975695d-e082-4208-8738-6c500d131928"
      },
      "source": [
        "print(bool(3))\n",
        "print(bool(0b010))\n",
        "print(bool(\"hanyang\"))\n",
        "print(bool(0))"
      ],
      "execution_count": 35,
      "outputs": [
        {
          "output_type": "stream",
          "name": "stdout",
          "text": [
            "True\n",
            "True\n",
            "True\n",
            "False\n"
          ]
        }
      ]
    },
    {
      "cell_type": "markdown",
      "metadata": {
        "id": "KpA7BboIHjok"
      },
      "source": [
        "### int()\n",
        "\n",
        "* `int()` 함수는 다양한 자료형을 정수형으로 변환\n",
        "* 복소수형은 정수로 `int()` 함수를 통해 변환이 되지 않음\n",
        "* 불리언 형은 값으로 `True`와 `False`만 가지고 `int()` 함수를 통해 정수로 변환되면 `True`는 1로 `False`는 0으로 변환\n",
        "* 정수값 10과 2진수 `0b010`, 8진수 `0o130`, 16진수 `0xABC`는 모두 같은 정수형이라서 그대로 값을 유지하고, 10진수 형태로 변환되어 출력\n",
        "* 실수형을 정수형으로 변환하는 경우에는 고정소수점이든 부동소수점이든지 소수점 이하를 제외하고 변환, 예를 들어, 12.34는 12로 소수점을 제외하고 변환\n",
        "* 문자형은 기본적으로는 문자열을 10진수 변환, 예를 들어, `int('10')`은 기본 10진수로 문자열 '10'을 정수형 10으로 변환\n",
        "* 2진수, 8진수, 16진수 등의 다른 진수로 된 문자열일 경우에는 몇 진수에 해당되는지를 입력해주면 그에 맞추어 변환\n",
        "* `int('010', 2)`와 같이 문자열 '010'을 2진수라고 알려주고 변환하기 위해서 2라고 입력하고, 8진수과 16진수도 마찬가지"
      ]
    },
    {
      "cell_type": "code",
      "metadata": {
        "id": "aFXT-t5qWRvX",
        "colab": {
          "base_uri": "https://localhost:8080/"
        },
        "outputId": "a18fc650-4f64-45aa-babf-17e175a306cb"
      },
      "source": [
        "print(int(True))\n",
        "print(int(False))\n",
        "\n",
        "print(int(0b010))\n",
        "print(int('010'))\n",
        "print(int('010', 2))"
      ],
      "execution_count": 37,
      "outputs": [
        {
          "output_type": "stream",
          "name": "stdout",
          "text": [
            "1\n",
            "0\n",
            "2\n",
            "10\n",
            "2\n"
          ]
        }
      ]
    },
    {
      "cell_type": "markdown",
      "metadata": {
        "id": "l1DTbBym3gb_"
      },
      "source": [
        "### float()\n",
        "\n",
        "* `float()` 함수는 자료형을 실수형으로 변환\n",
        "* 복소수형은 변환이 되지 않고, 문자열 형태의 2진수, 8진수, 16진수도 변환이 되지 않음\n",
        "* `int()` 함수를 사용한 결과와 유사하지만, 소수점 이하 값이 포함\n",
        "* 만약 소수점 이하 값이 없다면 .0으로 변환되고, 소수점 이하 값이 있는 실수형은 동일한 값으로 변환"
      ]
    },
    {
      "cell_type": "code",
      "metadata": {
        "id": "xKGdUbHXGnrt",
        "colab": {
          "base_uri": "https://localhost:8080/"
        },
        "outputId": "164428fb-2eac-4bcb-84c9-acfb247ec92a"
      },
      "source": [
        "# print(float(1+23j)) 복소수형은 변환 불가\n",
        "print(float(3))\n",
        "print(int(3))\n",
        "print(3.0)"
      ],
      "execution_count": 39,
      "outputs": [
        {
          "output_type": "stream",
          "name": "stdout",
          "text": [
            "3.0\n",
            "3\n",
            "3.0\n"
          ]
        }
      ]
    },
    {
      "cell_type": "markdown",
      "metadata": {
        "id": "C4E7PyVIfjGp"
      },
      "source": [
        "### complex()\n",
        "\n",
        "* `complex()` 함수는 자료형을 복소수형으로 변환\n",
        "* 불리언형, 정수형, 실수형, 복소수형, 문자형 모두 복소수형으로 변환 가능\n",
        "* 허수가 있는 복소수형을 제외하고 다른 자료형은 허수 부분이 없어서 `OJ`로 변환"
      ]
    },
    {
      "cell_type": "code",
      "metadata": {
        "id": "2VkxG3V17t0Q",
        "colab": {
          "base_uri": "https://localhost:8080/"
        },
        "outputId": "c938dde6-5baa-49ee-a938-ba0a5e53ce28"
      },
      "source": [
        "print(complex(3))\n",
        "print(complex(0))\n",
        "print(complex(1+3j))\n",
        "print(complex(3.1415))"
      ],
      "execution_count": 40,
      "outputs": [
        {
          "output_type": "stream",
          "name": "stdout",
          "text": [
            "(3+0j)\n",
            "0j\n",
            "(1+3j)\n",
            "(3.1415+0j)\n"
          ]
        }
      ]
    },
    {
      "cell_type": "markdown",
      "metadata": {
        "id": "4B6kUxK5dqaT"
      },
      "source": [
        "### str()\n",
        "\n",
        "* `str()` 함수는 파이썬의 모든 자료형을 문자열로 변환\n",
        "* 자료형의 값을 그대로 문자열 형태로 변환\n"
      ]
    },
    {
      "cell_type": "code",
      "metadata": {
        "id": "AWnqw88hfotE",
        "colab": {
          "base_uri": "https://localhost:8080/"
        },
        "outputId": "0342a7ec-300a-4c0a-a544-db14e9dbbdc3"
      },
      "source": [
        "print(str(1234))\n",
        "print(str(3.14))\n",
        "print(str(1+34j))"
      ],
      "execution_count": 41,
      "outputs": [
        {
          "output_type": "stream",
          "name": "stdout",
          "text": [
            "1234\n",
            "3.14\n",
            "(1+34j)\n"
          ]
        }
      ]
    },
    {
      "cell_type": "markdown",
      "metadata": {
        "id": "XU9RZbXykzXt"
      },
      "source": [
        "### eval()\n",
        "\n",
        "* `eval()` 함수는 문자열에 포함된 수식을 계산하여 나온 결과를 반환\n",
        "* '1 + 2'라는 문자열에 대해서 그대로 출력하는 것과 달리 계산된 결과 값은 3을 출력\n",
        "* 그 밖에도 -, *, /와 같은 여러 수식들에 대해서도 계산 가능"
      ]
    },
    {
      "cell_type": "code",
      "metadata": {
        "id": "m3Fh1-2leEru",
        "colab": {
          "base_uri": "https://localhost:8080/"
        },
        "outputId": "02ff7e5d-5bb5-4341-86c2-c4438f6b03ca"
      },
      "source": [
        "print('1+2')\n",
        "print(eval('1+2'))\n",
        "print(eval('2**3'))"
      ],
      "execution_count": 44,
      "outputs": [
        {
          "output_type": "stream",
          "name": "stdout",
          "text": [
            "1+2\n",
            "3\n",
            "8\n"
          ]
        }
      ]
    },
    {
      "cell_type": "markdown",
      "metadata": {
        "id": "nhChZjK3n9KE"
      },
      "source": [
        "### tuple()\n",
        "\n",
        "* `tuple()` 함수는 문자열, 리스트, 튜플 등의 자료형을 튜플 자료형으로 변환\n",
        "* 문자열 `'Hanyang'`을 문자 단위로 구분하여 튜플 자료형으로 변환\n",
        "* 리스트 자료형 `[1, 2, 3]`이나 튜플 자료형 `(1, 2, 3)`도 튜플 자료형으로 `(1, 2, 3)`으로 변환"
      ]
    },
    {
      "cell_type": "code",
      "metadata": {
        "id": "--4Db23Glh-5",
        "colab": {
          "base_uri": "https://localhost:8080/"
        },
        "outputId": "92b4e958-3dcd-4675-8efe-c6f2340327a6"
      },
      "source": [
        "print(tuple('hanyang'))\n",
        "print(tuple([1, 2, 3]))"
      ],
      "execution_count": 46,
      "outputs": [
        {
          "output_type": "stream",
          "name": "stdout",
          "text": [
            "('h', 'a', 'n', 'y', 'a', 'n', 'g')\n",
            "(1, 2, 3)\n"
          ]
        }
      ]
    },
    {
      "cell_type": "markdown",
      "metadata": {
        "id": "PStvlrGiaphP"
      },
      "source": [
        "### list()\n",
        "\n",
        "* `list()` 함수는 문자열, 리스트, 튜플 등의 자료형을 리스트 자료형으로 변환\n",
        "* 문자열 `'Hanyang'`, 리스트 `[1, 2, 3]`, 튜플 `(1, 2, 3)`에 대해서 리스트 자료형으로 변환"
      ]
    },
    {
      "cell_type": "code",
      "metadata": {
        "id": "OGUiqkOMaova",
        "colab": {
          "base_uri": "https://localhost:8080/"
        },
        "outputId": "1d7d9d4b-ab15-4b2d-91ba-115109bf6977"
      },
      "source": [
        "print(list('hanyang'))\n",
        "print(list((1, 2, 3)))"
      ],
      "execution_count": 48,
      "outputs": [
        {
          "output_type": "stream",
          "name": "stdout",
          "text": [
            "['h', 'a', 'n', 'y', 'a', 'n', 'g']\n",
            "[1, 2, 3]\n"
          ]
        }
      ]
    },
    {
      "cell_type": "markdown",
      "metadata": {
        "id": "J0kr_j2KatLD"
      },
      "source": [
        "### set()\n",
        "\n",
        "* `set()` 함수는 문자열, 리스트, 튜플, 집합, 딕셔너리 자료형을 집합 자료형으로 변환\n",
        "* 집합의 특성답게 요소에 대해서 순서를 고려하지 않고 변환\n",
        "* 리스트, 튜플, 집합 자료형도 집합 형태로 변환이 되며, 딕셔너리 자료형도 집합으로 변환\n",
        "* 딕셔너리 자료형은 키와 값으로 구성된 구조에서 키 값에 해당하는 것만 집합으로 변환\n"
      ]
    },
    {
      "cell_type": "code",
      "metadata": {
        "id": "zW0-GhJiavlg",
        "colab": {
          "base_uri": "https://localhost:8080/"
        },
        "outputId": "5040704d-be26-4d66-b12a-1ec10e865983"
      },
      "source": [
        "print(set('hanyang'))\n",
        "print(set([1, 2, 3]))"
      ],
      "execution_count": 50,
      "outputs": [
        {
          "output_type": "stream",
          "name": "stdout",
          "text": [
            "{'y', 'h', 'n', 'a', 'g'}\n",
            "{1, 2, 3}\n"
          ]
        }
      ]
    },
    {
      "cell_type": "markdown",
      "metadata": {
        "id": "O3OowqxXayn7"
      },
      "source": [
        "### frozenset()\n",
        "\n",
        "* `frozenset()` 함수는 문자열을 고정 집합 형태로 변환\n",
        "* `set()` 함수는 집합의 값을 추가 및 제거 등이 가능\n",
        "* `frozenset()` 함수는 수정 불가능한 집합 자료형"
      ]
    },
    {
      "cell_type": "code",
      "metadata": {
        "id": "VLwYuHvha0ef",
        "colab": {
          "base_uri": "https://localhost:8080/"
        },
        "outputId": "1b491fcc-15e9-4f18-ad4f-306602ca71da"
      },
      "source": [
        "print(frozenset('hanyang'))\n",
        "print(frozenset([1, 2, 3]))"
      ],
      "execution_count": 51,
      "outputs": [
        {
          "output_type": "stream",
          "name": "stdout",
          "text": [
            "frozenset({'y', 'h', 'n', 'a', 'g'})\n",
            "frozenset({1, 2, 3})\n"
          ]
        }
      ]
    },
    {
      "cell_type": "markdown",
      "metadata": {
        "id": "c5caSaibawSN"
      },
      "source": [
        "### dict()\n",
        "\n",
        "* `dict()` 함수는 딕셔너리 자료형으로 변환하는 역할\n",
        "* (키: 값)으로 구성된 튜플의 시퀀스 형태로 값을 가짐\n"
      ]
    },
    {
      "cell_type": "code",
      "metadata": {
        "id": "60x8BRJFayPO",
        "colab": {
          "base_uri": "https://localhost:8080/"
        },
        "outputId": "54a7d035-83ed-4150-a88c-a96eac9bcccd"
      },
      "source": [
        "# print(dict('hanyang')) ValueError\n",
        "print(dict({1:'hanyang', 2: 'university'}))"
      ],
      "execution_count": 52,
      "outputs": [
        {
          "output_type": "stream",
          "name": "stdout",
          "text": [
            "{1: 'hanyang', 2: 'university'}\n"
          ]
        }
      ]
    },
    {
      "cell_type": "markdown",
      "metadata": {
        "id": "2ACrynyca1DD"
      },
      "source": [
        "### chr()\n",
        "\n",
        "* `chr()` 함수는 정수를 문자로 변환\n",
        "* 컴퓨터에서는 문자를 처리하기 위해 각 문자마다 특정 정수값으로 매핑: ASCII(American Standard Code for Information Interchange)![image.png](data:image/png;base64,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)\n",
        "\n",
        "* `chr()` 함수는 ASCII 기준에 따라서 정수값에 해당하는 문자를 나타냄\n",
        "* 예를 들어, ASCII에서 정수 값 97은 문자 a에 매핑되어 `chr(97)`의 결과 값은 문자 a"
      ]
    },
    {
      "cell_type": "code",
      "metadata": {
        "id": "4IozRAYUa27n",
        "colab": {
          "base_uri": "https://localhost:8080/"
        },
        "outputId": "e38b49c8-a02a-48fd-8213-ee616f3d7e22"
      },
      "source": [
        "print(chr(97))\n",
        "print(chr(65))"
      ],
      "execution_count": 54,
      "outputs": [
        {
          "output_type": "stream",
          "name": "stdout",
          "text": [
            "a\n",
            "A\n"
          ]
        }
      ]
    },
    {
      "cell_type": "markdown",
      "metadata": {
        "id": "pqxx-K67a3Vf"
      },
      "source": [
        "### ord()\n",
        "\n",
        "* `ord()` 함수는 `chr()` 함수와 반대로 문자를 정수 값으로 변환\n",
        "* ASCII에 맞춰서 문자 'a'에 해당하는 정수 값인 97을 출력하기"
      ]
    },
    {
      "cell_type": "code",
      "metadata": {
        "id": "Hucvh-qxa5iG",
        "colab": {
          "base_uri": "https://localhost:8080/"
        },
        "outputId": "1eb5a3d1-206c-42cc-9ec1-52a4e46867cf"
      },
      "source": [
        "print('a')\n",
        "print(ord('a'))"
      ],
      "execution_count": 55,
      "outputs": [
        {
          "output_type": "stream",
          "name": "stdout",
          "text": [
            "a\n",
            "97\n"
          ]
        }
      ]
    },
    {
      "cell_type": "markdown",
      "metadata": {
        "id": "0TDNXL3saLad"
      },
      "source": [
        "### bin()\n",
        "\n",
        "* `bin()` 함수는 정수를 2진수 문자열로 변환\n",
        "* 자료형을 2진수 표기인 '0b'가 붙은 형태의 문자열로 변환\n",
        "* `bin()` 함수로 `True`는 `0b1`로 출력하고, `False`는 `0b0`으로 출력하기\n",
        "* 10진수, 2진수, 8진수, 16진수 정수형도 2진수로 변환되어 출력"
      ]
    },
    {
      "cell_type": "code",
      "metadata": {
        "id": "Ia5W7GjVaNSO",
        "colab": {
          "base_uri": "https://localhost:8080/"
        },
        "outputId": "71a8e088-e2bb-4cd7-ed48-2f5072a372ed"
      },
      "source": [
        "print(bin(10))\n",
        "print(bin(1023))"
      ],
      "execution_count": 56,
      "outputs": [
        {
          "output_type": "stream",
          "name": "stdout",
          "text": [
            "0b1010\n",
            "0b1111111111\n"
          ]
        }
      ]
    },
    {
      "cell_type": "markdown",
      "metadata": {
        "id": "GhKuz0R7a8nh"
      },
      "source": [
        "### oct()\n",
        "\n",
        "* `oct()` 함수는 정수를 8진수 문자열로 변환\n",
        "* 불리언형, 정수형 등의 자료형을 8진수 표기인 '0o'가 붙은 형태의 문자열로 변환\n",
        "* `oct()` 함수를 이용해 `True`는 `0o1`로 출력되고, `False`는 `0o0`으로 출력하기\n",
        "* 10진수, 2진수, 8진수, 16진수 정수형도 8진수로 변환되어 출력"
      ]
    },
    {
      "cell_type": "code",
      "metadata": {
        "id": "hLc4zMe7a-L0",
        "colab": {
          "base_uri": "https://localhost:8080/"
        },
        "outputId": "65cbac26-9d47-4542-b581-accbdf66400b"
      },
      "source": [
        "print(oct(1024))\n",
        "print(oct(0b111))"
      ],
      "execution_count": 58,
      "outputs": [
        {
          "output_type": "stream",
          "name": "stdout",
          "text": [
            "0o2000\n",
            "0o7\n"
          ]
        }
      ]
    },
    {
      "cell_type": "markdown",
      "metadata": {
        "id": "_fRnnZfPa59a"
      },
      "source": [
        "### hex()\n",
        "\n",
        "* `hex()` 함수는 정수를 16진수 문자열로 변환\n",
        "* 주어진 자료형을 16진수 표기인 '0x'가 붙은 16진수 형태의 문자열로 변환\n",
        "* 불리언형과 정수형 모두 16진수 표기의 문자열로 변환하기\n"
      ]
    },
    {
      "cell_type": "code",
      "metadata": {
        "id": "w_hQsUVTa8Mi",
        "colab": {
          "base_uri": "https://localhost:8080/"
        },
        "outputId": "2f2c10e4-339f-44a1-8d88-86d4c18bee4b"
      },
      "source": [
        "print(hex(1024))\n",
        "print(hex(0o111)) # 73 -> 0o111 -> 0x49"
      ],
      "execution_count": 59,
      "outputs": [
        {
          "output_type": "stream",
          "name": "stdout",
          "text": [
            "0x400\n",
            "0x49\n"
          ]
        }
      ]
    },
    {
      "cell_type": "markdown",
      "metadata": {
        "id": "algkb-Zv_v3y"
      },
      "source": [
        "### bytes()\n",
        "\n",
        "* `bytes()` 함수는 자료형을 바이트형으로 변환\n",
        "* 객체를 바이트 객체로 변환"
      ]
    },
    {
      "cell_type": "code",
      "metadata": {
        "id": "fBuAnYJQ_wp0",
        "colab": {
          "base_uri": "https://localhost:8080/"
        },
        "outputId": "83861fc1-2f11-47d3-fb7f-88f5aceca144"
      },
      "source": [
        "print(bytes(10))\n",
        "print(bytes(0b11))"
      ],
      "execution_count": 60,
      "outputs": [
        {
          "output_type": "stream",
          "name": "stdout",
          "text": [
            "b'\\x00\\x00\\x00\\x00\\x00\\x00\\x00\\x00\\x00\\x00'\n",
            "b'\\x00\\x00\\x00'\n"
          ]
        }
      ]
    },
    {
      "cell_type": "markdown",
      "metadata": {
        "id": "aP84dGJOEDpt"
      },
      "source": [
        "### memoryview()\n",
        "\n",
        "* 바이트 자료형을 메모리의 이진 데이터로 변환한 자료형"
      ]
    },
    {
      "cell_type": "code",
      "metadata": {
        "id": "MxbONoOsEEKH",
        "colab": {
          "base_uri": "https://localhost:8080/"
        },
        "outputId": "de652372-a62e-4c13-e0da-ff2e861acdfa"
      },
      "source": [
        "print(memoryview(b'\\x00'))"
      ],
      "execution_count": 61,
      "outputs": [
        {
          "output_type": "stream",
          "name": "stdout",
          "text": [
            "<memory at 0x7de300396e00>\n"
          ]
        }
      ]
    },
    {
      "cell_type": "markdown",
      "metadata": {
        "id": "TUtif65eQ4kN"
      },
      "source": [
        "## 자료형 계산"
      ]
    },
    {
      "cell_type": "markdown",
      "metadata": {
        "id": "C3IjTWeSRHWa"
      },
      "source": [
        "### min()\n",
        "\n",
        "* 입력된 값들 중에서 가장 작은 값을 반환하는 함수"
      ]
    },
    {
      "cell_type": "code",
      "metadata": {
        "id": "MCgOSP0qRKfn",
        "colab": {
          "base_uri": "https://localhost:8080/"
        },
        "outputId": "be2caa10-0b94-4d7c-a537-3bba7726dbc4"
      },
      "source": [
        "print(min(1,3,5,7,0))"
      ],
      "execution_count": 62,
      "outputs": [
        {
          "output_type": "stream",
          "name": "stdout",
          "text": [
            "0\n"
          ]
        }
      ]
    },
    {
      "cell_type": "markdown",
      "metadata": {
        "id": "cMVIBtqRRvg0"
      },
      "source": [
        "### max()\n",
        "\n",
        "* 입력된 값들 중에서 가장 큰 값을 반환하는 함수"
      ]
    },
    {
      "cell_type": "code",
      "metadata": {
        "id": "GZfgc91LRzda",
        "colab": {
          "base_uri": "https://localhost:8080/"
        },
        "outputId": "964973f1-8f3b-444a-f6a0-31ec9a12969b"
      },
      "source": [
        "print(max(1,3,5,7,11))"
      ],
      "execution_count": 63,
      "outputs": [
        {
          "output_type": "stream",
          "name": "stdout",
          "text": [
            "11\n"
          ]
        }
      ]
    },
    {
      "cell_type": "markdown",
      "metadata": {
        "id": "OcnIj5EjR_JJ"
      },
      "source": [
        "### sum()\n",
        "\n",
        "* 입력된 값들의 전체 합을 반환"
      ]
    },
    {
      "cell_type": "code",
      "metadata": {
        "id": "FRnME2kiSETx",
        "colab": {
          "base_uri": "https://localhost:8080/"
        },
        "outputId": "b8ccf745-fe04-48f6-e3b0-078ab9c1c9ed"
      },
      "source": [
        "# 정수형을 입력하면 인식 불가\n",
        "# print(sum(1, 2, 3, 4, 5))\n",
        "print(sum([1, 2, 3, 4, 5]))"
      ],
      "execution_count": 64,
      "outputs": [
        {
          "output_type": "stream",
          "name": "stdout",
          "text": [
            "15\n"
          ]
        }
      ]
    },
    {
      "cell_type": "markdown",
      "metadata": {
        "id": "6t8L1aUkSfuG"
      },
      "source": [
        "### divmod()\n",
        "\n",
        "* 나눈 값과 나머지 값을 쌍으로 반환\n",
        "* `(a // b, a % b)`와 동일한 값"
      ]
    },
    {
      "cell_type": "code",
      "metadata": {
        "id": "0tEUJTJ5Smt_",
        "colab": {
          "base_uri": "https://localhost:8080/"
        },
        "outputId": "81971aa4-8010-4ca7-c286-ff313911a7f6"
      },
      "source": [
        "print(divmod(3, 5))\n",
        "print(divmod(11, 5))\n",
        "print(11//5)\n",
        "print(11%5)"
      ],
      "execution_count": 67,
      "outputs": [
        {
          "output_type": "stream",
          "name": "stdout",
          "text": [
            "(0, 3)\n",
            "(2, 1)\n",
            "2\n",
            "1\n"
          ]
        }
      ]
    },
    {
      "cell_type": "markdown",
      "metadata": {
        "id": "bA34pYq5TOBo"
      },
      "source": [
        "### abs()\n",
        "\n",
        "* 절대값 $|x|$으로 반환"
      ]
    },
    {
      "cell_type": "code",
      "metadata": {
        "id": "k9Tk7j77TRdM",
        "colab": {
          "base_uri": "https://localhost:8080/"
        },
        "outputId": "923e1dcb-d6ad-48d2-e82d-31934a7b0c78"
      },
      "source": [
        "print(abs(-11))"
      ],
      "execution_count": 68,
      "outputs": [
        {
          "output_type": "stream",
          "name": "stdout",
          "text": [
            "11\n"
          ]
        }
      ]
    },
    {
      "cell_type": "markdown",
      "metadata": {
        "id": "um3henXBThud"
      },
      "source": [
        "### pow()\n",
        "\n",
        "* 지수승의 값 $a^b$으로 반환"
      ]
    },
    {
      "cell_type": "code",
      "metadata": {
        "id": "leZovwlVT-Yl",
        "colab": {
          "base_uri": "https://localhost:8080/"
        },
        "outputId": "da1799ce-e421-471b-d776-0ef81cb7026a"
      },
      "source": [
        "print(pow(3, 3))"
      ],
      "execution_count": 69,
      "outputs": [
        {
          "output_type": "stream",
          "name": "stdout",
          "text": [
            "27\n"
          ]
        }
      ]
    },
    {
      "cell_type": "markdown",
      "metadata": {
        "id": "W4b6TVEIU2gw"
      },
      "source": [
        "### len(s)\n",
        "\n",
        "* 다양한 시퀀스의 갯수를 반환"
      ]
    },
    {
      "cell_type": "code",
      "metadata": {
        "id": "NIzuE0EVU6yC",
        "colab": {
          "base_uri": "https://localhost:8080/"
        },
        "outputId": "ea475eea-7ee6-4c68-cc2b-228ad94253f6"
      },
      "source": [
        "li = 'hanyang'\n",
        "tu = (1, 2, 3)\n",
        "\n",
        "print(len(li))\n",
        "print(len(tu))"
      ],
      "execution_count": 70,
      "outputs": [
        {
          "output_type": "stream",
          "name": "stdout",
          "text": [
            "7\n",
            "3\n"
          ]
        }
      ]
    },
    {
      "cell_type": "markdown",
      "metadata": {
        "id": "Me-tvSeTVF3I"
      },
      "source": [
        "### round()\n",
        "\n",
        "* 소수점 뒤를 반올림한 값을 반환"
      ]
    },
    {
      "cell_type": "code",
      "metadata": {
        "id": "l1m2_f7dVJky",
        "colab": {
          "base_uri": "https://localhost:8080/"
        },
        "outputId": "3a0b7a93-58c7-40a4-dd93-8a442be0e84d"
      },
      "source": [
        "a = 3.141592\n",
        "print(round(a)) # 소수점 첫째자리에서 반올림\n",
        "print(round(a, -2)) # 10의 자리에서 반올림\n",
        "print(round(a, 2)) # 소수점 셋째자리에서 반올림"
      ],
      "execution_count": 72,
      "outputs": [
        {
          "output_type": "stream",
          "name": "stdout",
          "text": [
            "3\n",
            "0.0\n",
            "3.14\n"
          ]
        }
      ]
    },
    {
      "cell_type": "markdown",
      "metadata": {
        "id": "F39_FXWHVVKh"
      },
      "source": [
        "### all()\n",
        "\n",
        "* 모든 값이 `True` 이거나 비어있을 때 `True` 반환"
      ]
    },
    {
      "cell_type": "code",
      "metadata": {
        "id": "ndPHacrvVbeS",
        "colab": {
          "base_uri": "https://localhost:8080/"
        },
        "outputId": "cc99f196-39a8-4c32-9a2d-5339b7c60400"
      },
      "source": [
        "print(all('True'))\n",
        "print(all([1, 2, 3]))\n",
        "print(all([0, 1, 2])) # 하나라도 0이 있으면 False"
      ],
      "execution_count": 74,
      "outputs": [
        {
          "output_type": "stream",
          "name": "stdout",
          "text": [
            "True\n",
            "True\n",
            "False\n"
          ]
        }
      ]
    },
    {
      "cell_type": "markdown",
      "metadata": {
        "id": "fanBFnO1V0Zu"
      },
      "source": [
        "### any()\n",
        "\n",
        "* 어떤 값이 `True` 이면 `True` 반환\n",
        "* 값이 비어있으면 `False` 반환"
      ]
    },
    {
      "cell_type": "code",
      "metadata": {
        "id": "oA6TIhIoV5gF",
        "colab": {
          "base_uri": "https://localhost:8080/"
        },
        "outputId": "61fe9ed5-78e7-4197-9655-73f464e5981f"
      },
      "source": [
        "print(any([0, 0, 1]))\n",
        "print(any([0, 0, 0]))"
      ],
      "execution_count": 76,
      "outputs": [
        {
          "output_type": "stream",
          "name": "stdout",
          "text": [
            "True\n",
            "False\n"
          ]
        }
      ]
    },
    {
      "cell_type": "markdown",
      "metadata": {
        "id": "D_yWm1gBEo4p"
      },
      "source": [
        "\n",
        "\n",
        "---\n",
        "\n"
      ]
    },
    {
      "cell_type": "markdown",
      "metadata": {
        "id": "mypjHsFSEtLz"
      },
      "source": [
        "# 연산자(Operators)\n",
        "\n"
      ]
    },
    {
      "cell_type": "markdown",
      "metadata": {
        "id": "5vw1RQEmFpTn"
      },
      "source": [
        "## 산술 연산자(Arithmetic Operators)\n",
        "\n"
      ]
    },
    {
      "cell_type": "code",
      "metadata": {
        "id": "iaozGCpH-Sze"
      },
      "source": [],
      "execution_count": null,
      "outputs": []
    },
    {
      "cell_type": "markdown",
      "metadata": {
        "id": "BbNJjYvkSzyQ"
      },
      "source": [
        "## 비교 연산자(Comparison Operators)\n",
        "\n"
      ]
    },
    {
      "cell_type": "code",
      "metadata": {
        "id": "EZELCQFgPmgI"
      },
      "source": [],
      "execution_count": null,
      "outputs": []
    },
    {
      "cell_type": "markdown",
      "metadata": {
        "id": "aKigU9vxWMPE"
      },
      "source": [
        "## 할당 연산자(Assignment Operators)\n",
        "\n"
      ]
    },
    {
      "cell_type": "code",
      "metadata": {
        "id": "8kQmBvcgVZag"
      },
      "source": [],
      "execution_count": null,
      "outputs": []
    },
    {
      "cell_type": "markdown",
      "metadata": {
        "id": "fEbvvt68ZEkR"
      },
      "source": [
        "## 비트 연산자(Bitwise Operators)\n"
      ]
    },
    {
      "cell_type": "code",
      "metadata": {
        "id": "p7Py0jU6Xb-Y"
      },
      "source": [],
      "execution_count": null,
      "outputs": []
    },
    {
      "cell_type": "markdown",
      "metadata": {
        "id": "mTlDlBfHb56x"
      },
      "source": [
        "## 논리 연산자(Logical Operators)\n"
      ]
    },
    {
      "cell_type": "code",
      "metadata": {
        "id": "h_cAKWdLbRrT"
      },
      "source": [],
      "execution_count": null,
      "outputs": []
    },
    {
      "cell_type": "markdown",
      "metadata": {
        "id": "7YkZ_IM1cqO_"
      },
      "source": [
        "## 멤버 연산자(Membership Operators)\n"
      ]
    },
    {
      "cell_type": "code",
      "metadata": {
        "id": "7ZOrVkhMcfUE"
      },
      "source": [],
      "execution_count": null,
      "outputs": []
    },
    {
      "cell_type": "markdown",
      "metadata": {
        "id": "rolPOjSYdQvA"
      },
      "source": [
        "## 식별 연산자(Identity Operators)\n"
      ]
    },
    {
      "cell_type": "code",
      "metadata": {
        "id": "tZ5C_GI_dChN"
      },
      "source": [],
      "execution_count": null,
      "outputs": []
    },
    {
      "cell_type": "markdown",
      "source": [
        "---\n",
        "## 참고문헌\n",
        "\n",
        "|번호|내용|링크|\n",
        "|--|--|--|\n",
        "|1|Google Colab 사용법|https://colab.research.google.com/drive/1Emw-Ngu9gZ3FKXDSiT4d5H_n_GOBfvAn?usp=sharing, http://suanlab.com/|\n",
        "|2|Jupyter Notebook 등 python|https://wikidocs.net/book/1704|\n",
        "|3|와일드카드|https://www.bing.com/ck/a?!&&p=834805689562ea6dJmltdHM9MTY4MDczOTIwMCZpZ3VpZD0xMzAxNDdiNy1mODNjLTY1NzItMzJkZS01NTZlZjkxYzY0NTgmaW5zaWQ9NTE4NQ&ptn=3&hsh=3&fclid=130147b7-f83c-6572-32de-556ef91c6458&psq=%ec%99%80%ec%9d%bc%eb%93%9c%ec%b9%b4%eb%93%9c(wildcard)+%eb%a7%a4%ec%b9%ad&u=a1aHR0cHM6Ly9zaG9hcms3LmdpdGh1Yi5pby9wcm9ncmFtbWluZy9hbGdvcml0aG0vQWxnb3Nwb3QtV2lsZGNhcmQtJUVCJUE3JUE0JUVDJUI5JUFE&ntb=1|\n",
        "|4|마크다운 문법|https://codesik.github.io/How-To-Use-MarkDown/#%EC%A0%9C%EB%AA%A9header|\n",
        "|5|파이썬 용어 정리|https://hongong.hanbit.co.kr/%ed%8c%8c%ec%9d%b4%ec%8d%ac-%ec%9a%a9%ec%96%b4-%ec%a0%95%eb%a6%ac-1%ed%83%84-%ea%b8%b0%eb%b3%b8-%ec%9e%90%eb%a3%8c%ed%98%95-%ec%a1%b0%ea%b1%b4%eb%ac%b8/|"
      ],
      "metadata": {
        "id": "fGoPKr0ddMlR"
      }
    },
    {
      "cell_type": "code",
      "source": [],
      "metadata": {
        "id": "lguqVYP5dWph"
      },
      "execution_count": null,
      "outputs": []
    }
  ]
}