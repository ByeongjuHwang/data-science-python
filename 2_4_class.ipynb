{
  "nbformat": 4,
  "nbformat_minor": 0,
  "metadata": {
    "colab": {
      "provenance": [],
      "include_colab_link": true
    },
    "kernelspec": {
      "name": "python3",
      "display_name": "Python 3"
    },
    "language_info": {
      "name": "python"
    }
  },
  "cells": [
    {
      "cell_type": "markdown",
      "metadata": {
        "id": "view-in-github",
        "colab_type": "text"
      },
      "source": [
        "<a href=\"https://colab.research.google.com/github/ByeongjuHwang/data-science-python/blob/main/2_4_class.ipynb\" target=\"_parent\"><img src=\"https://colab.research.google.com/assets/colab-badge.svg\" alt=\"Open In Colab\"/></a>"
      ]
    },
    {
      "cell_type": "markdown",
      "source": [
        "# 클래스 (Class)\n",
        "\n",
        "객체 지향 프로그래밍(Object Oriented Programming) 또는 OOP는 속성 및 동작이 개별 객체에 고정적으로 포함되도록 프로그램을 구성하는 수단을 제공하는 프로그래밍 패러다임\n",
        "\n",
        "예를 들어, 사람이라는 객체는 이름, 나이, 주소 등을의 속성을 가지고 있으며 걷고, 말하고, 호흡하고, 달리기와 같은 행동으로 표현 할 수 있습니다. 또 전자메일은 받는 사람 목록, 제목, 본문 등과 같은 속성 과  첨부 파일 추가 및 보내기와 같은 동작을 포함한 객체입니다."
      ],
      "metadata": {
        "id": "tuxI2jEgVW2h"
      }
    },
    {
      "cell_type": "markdown",
      "source": [
        "* 'class'는 객체 지향 프로그래밍의 핵심적인 요소로서, 데이터와 기능을 하나의 단위로 묶어서 재사용성과 유지보수성을 높이는 방법입니다.\n",
        "* 'class'를 사용하면 코드를 더 간결하고 명확하게 작성할 수 있습니다."
      ],
      "metadata": {
        "id": "q64_FOO_V5oZ"
      }
    },
    {
      "cell_type": "markdown",
      "source": [
        "파이썬에서 클래스(class)를 정의하고 생성하는 방법은 다음과 같습니다.\n",
        "\n",
        "```python\n",
        "class MyClass:\n",
        "    x = 5\n",
        "```\n",
        "\n",
        "위 코드에서 `MyClass`는 클래스 이름이며, `x`는 클래스의 속성(attribute)입니다. 이 속성은 클래스 변수로서 모든 인스턴스에서 공유됩니다.\n",
        "\n",
        "클래스의 메서드(method)는 클래스 내부에 정의된 함수입니다. 메서드는 클래스의 인스턴스에서 호출됩니다. 메서드를 정의하는 방법은 다음과 같습니다.\n",
        "\n",
        "```python\n",
        "class MyClass:\n",
        "    x = 5\n",
        "\n",
        "    def my_method(self):\n",
        "        print(\"Hello World\")\n",
        "```\n",
        "\n",
        "상속(inheritance)은 클래스가 다른 클래스의 속성과 메서드를 상속받을 수 있는 기능입니다. 이것은 코드의 재사용성을 높이고 유지보수를 쉽게 만들어줍니다. 다형성(polymorphism)은 객체가 여러 가지 형태를 가질 수 있는 능력입니다. 이것은 코드의 유연성을 높이고 확장성을 높여줍니다.\n"
      ],
      "metadata": {
        "id": "N_CGxlpeWRUp"
      }
    },
    {
      "cell_type": "code",
      "source": [
        "class Laptop:\n",
        "  pass\n",
        "print(type(Laptop))"
      ],
      "metadata": {
        "id": "3DO-40U1VVe0",
        "colab": {
          "base_uri": "https://localhost:8080/"
        },
        "outputId": "031ba1af-0728-4bf5-c905-798f63f28581"
      },
      "execution_count": 3,
      "outputs": [
        {
          "output_type": "stream",
          "name": "stdout",
          "text": [
            "<class 'type'>\n"
          ]
        }
      ]
    },
    {
      "cell_type": "code",
      "source": [
        "galaxybook = Laptop()\n",
        "macbook = Laptop()\n",
        "lgGram = Laptop()\n",
        "\n",
        "print(type(galaxybook))"
      ],
      "metadata": {
        "colab": {
          "base_uri": "https://localhost:8080/"
        },
        "id": "8J6Zk8EZWwmC",
        "outputId": "7c3c4dba-5c4f-4773-9774-5aef718422e2"
      },
      "execution_count": 2,
      "outputs": [
        {
          "output_type": "stream",
          "name": "stdout",
          "text": [
            "<class '__main__.Laptop'>\n"
          ]
        }
      ]
    },
    {
      "cell_type": "markdown",
      "source": [
        "## 생성자`(__init__)`함수\n",
        "\n",
        "* 객체가 생성되자마자 실행되는 함수"
      ],
      "metadata": {
        "id": "3ObtKEQZW9CW"
      }
    },
    {
      "cell_type": "code",
      "source": [
        "class Laptop:\n",
        "  def __init__ (self):\n",
        "    print('new object is generated at ', self) # self 메모리 주소\n",
        "    self.brand = 'samsung'\n",
        "    self.display = 16\n",
        "    self.price = 2000000\n",
        "\n",
        "galaxybook1 = Laptop()\n",
        "galaxybook2 = Laptop()\n",
        "galaxybook3 = Laptop()\n",
        "\n",
        "macBook = Laptop()\n",
        "\n",
        "print(f\"brand: {galaxybook1.brand}\")\n",
        "print(f\"brand: {galaxybook1.display}\")\n",
        "print(f\"brand: {galaxybook1.price}\")\n"
      ],
      "metadata": {
        "colab": {
          "base_uri": "https://localhost:8080/"
        },
        "id": "uH7mDtw_W3sp",
        "outputId": "86f074d8-a653-45eb-b16e-e7f5f1767d1d"
      },
      "execution_count": 6,
      "outputs": [
        {
          "output_type": "stream",
          "name": "stdout",
          "text": [
            "new object is generated at  <__main__.Laptop object at 0x7e129fcbd6f0>\n",
            "new object is generated at  <__main__.Laptop object at 0x7e129fcbe2f0>\n",
            "new object is generated at  <__main__.Laptop object at 0x7e129fcbcdf0>\n",
            "new object is generated at  <__main__.Laptop object at 0x7e129fcbdb40>\n",
            "brand: samsung\n",
            "brand: 16\n",
            "brand: 2000000\n"
          ]
        }
      ]
    },
    {
      "cell_type": "code",
      "source": [],
      "metadata": {
        "id": "vs4X1Cf2XNHt"
      },
      "execution_count": null,
      "outputs": []
    },
    {
      "cell_type": "markdown",
      "source": [
        "## 속성(Attribute) 정의\n",
        "\n"
      ],
      "metadata": {
        "id": "WtL3z4dEXZYJ"
      }
    },
    {
      "cell_type": "markdown",
      "source": [
        "### 정적인 속성(static)"
      ],
      "metadata": {
        "id": "nezf3W_Ljv0L"
      }
    },
    {
      "cell_type": "code",
      "source": [
        "class Laptop:\n",
        "  def __init__ (self):\n",
        "    print('new object is genearted at ', self)\n",
        "    self.brand = 'samsung'\n",
        "    self.display = 16\n",
        "    self.price = 2000000"
      ],
      "metadata": {
        "id": "hBA6hE1-Xfw7"
      },
      "execution_count": null,
      "outputs": []
    },
    {
      "cell_type": "code",
      "source": [
        "laptop1 = Laptop()\n",
        "laptop2  = Laptop()\n",
        "laptop3 = Laptop()\n",
        "\n",
        "print(f\"brand: {laptop1.brand}\")"
      ],
      "metadata": {
        "colab": {
          "base_uri": "https://localhost:8080/"
        },
        "id": "ztREIIKwXn_t",
        "outputId": "1701736a-9c56-466d-9945-6bcc4dd60245"
      },
      "execution_count": null,
      "outputs": [
        {
          "output_type": "stream",
          "name": "stdout",
          "text": [
            "new object is genearted at  <__main__.Laptop object at 0x7fd47599c820>\n",
            "new object is genearted at  <__main__.Laptop object at 0x7fd47599fd60>\n",
            "new object is genearted at  <__main__.Laptop object at 0x7fd47599e230>\n",
            "brand: samsung\n"
          ]
        }
      ]
    },
    {
      "cell_type": "markdown",
      "source": [
        "### 동적인 속성"
      ],
      "metadata": {
        "id": "tAnqFbl0X9Z-"
      }
    },
    {
      "cell_type": "code",
      "source": [
        "class Laptop:\n",
        "  def __init__ (self, brand, display, price):\n",
        "    #print('new object is genearted at ', self)\n",
        "    self.brand = brand,\n",
        "    self.display = display,\n",
        "    self.price = price\n",
        "\n",
        "    #print(f\"brand: {self.brand} , display size: {self.display} , price : {self.price}\")"
      ],
      "metadata": {
        "id": "DZn2obVBXtbN"
      },
      "execution_count": 8,
      "outputs": []
    },
    {
      "cell_type": "code",
      "source": [
        "galaxybook = Laptop('samsung', 16, 2000000)\n",
        "macbook = Laptop('apple', 14, 2500000)\n",
        "print(f\"brand: {galaxybook.brand} , display size: {galaxybook.display} , price : {galaxybook.price}\")\n",
        "print(f\"brand: {macbook.brand} , display size: {macbook.display} , price : {macbook.price}\")"
      ],
      "metadata": {
        "colab": {
          "base_uri": "https://localhost:8080/"
        },
        "id": "wAuHnrm6YC8x",
        "outputId": "d5887277-10e7-4667-9b9c-f2ac5b072136"
      },
      "execution_count": 9,
      "outputs": [
        {
          "output_type": "stream",
          "name": "stdout",
          "text": [
            "brand: ('samsung',) , display size: (16,) , price : 2000000\n",
            "brand: ('apple',) , display size: (14,) , price : 2500000\n"
          ]
        }
      ]
    },
    {
      "cell_type": "code",
      "source": [],
      "metadata": {
        "id": "VxxtoNTuYQAl"
      },
      "execution_count": null,
      "outputs": []
    },
    {
      "cell_type": "markdown",
      "source": [
        "## 메서드 (method)\n",
        "\n",
        "* 메서드(method)는 클래스의 객체에서 호출하여 속성에 대한 연산을 수행하는 역할"
      ],
      "metadata": {
        "id": "qcX3NBL7iPjl"
      }
    },
    {
      "cell_type": "code",
      "source": [
        "a = list()\n",
        "\n",
        "a.append(777)\n",
        "a.append(1)\n",
        "\n",
        "print(a)\n",
        "\n",
        "a.sort()\n",
        "\n",
        "print(a)"
      ],
      "metadata": {
        "colab": {
          "base_uri": "https://localhost:8080/"
        },
        "id": "thuGWxWNicF7",
        "outputId": "d5e07d53-2352-4a98-a1dc-94e7375c83fc"
      },
      "execution_count": null,
      "outputs": [
        {
          "output_type": "stream",
          "name": "stdout",
          "text": [
            "[777, 1]\n",
            "[1, 777]\n"
          ]
        }
      ]
    },
    {
      "cell_type": "code",
      "source": [
        "lst = [1, 2, 3, 4, 5]\n",
        "print(lst)\n",
        "\n",
        "lst2 = list()\n",
        "print(lst2)\n",
        "\n",
        "lst2.append(123)\n",
        "print(lst2)\n",
        "lst2.append([1, 2, 3])\n",
        "print(lst2)"
      ],
      "metadata": {
        "id": "JR0B3M8KigVu",
        "colab": {
          "base_uri": "https://localhost:8080/"
        },
        "outputId": "65280be5-52dc-4534-94d6-5c5e4a792a2c"
      },
      "execution_count": 15,
      "outputs": [
        {
          "output_type": "stream",
          "name": "stdout",
          "text": [
            "[1, 2, 3, 4, 5]\n",
            "[]\n",
            "[123]\n",
            "[123, [1, 2, 3]]\n"
          ]
        }
      ]
    },
    {
      "cell_type": "markdown",
      "source": [
        "### instance method\n",
        "\n",
        "*  객체 레벨에서 호출하는 함수\n",
        "* 해당 메서드를 호출한 객체에만 영향을 미칩\n",
        "* 인스턴스 메서드는 객체 생성 시에 초기화된 속성 값을 내부적으로 계속 저장하며 호출한 메서드에 따라 결과값이 변경됨"
      ],
      "metadata": {
        "id": "QYU_rtFDiiew"
      }
    },
    {
      "cell_type": "code",
      "source": [
        "class Calculate1:\n",
        "  def __init__(self):\n",
        "    self.num = 0\n",
        "  def increse(self):\n",
        "    self.num += 1\n",
        "  def reset(self):\n",
        "    self.num = 0\n",
        "  def print_value(self):\n",
        "    print(f\"The current value is {self.num}\")\n",
        "\n",
        "\n"
      ],
      "metadata": {
        "id": "sjfw9vJUim_z"
      },
      "execution_count": 16,
      "outputs": []
    },
    {
      "cell_type": "code",
      "source": [
        "cal1_1 = Calculate1()\n",
        "cal1_1.print_value()"
      ],
      "metadata": {
        "colab": {
          "base_uri": "https://localhost:8080/"
        },
        "id": "NlMJQhxnjC9_",
        "outputId": "39e6a28a-49fe-4318-cb7a-ae32ecec2d9a"
      },
      "execution_count": 17,
      "outputs": [
        {
          "output_type": "stream",
          "name": "stdout",
          "text": [
            "The current value is 0\n"
          ]
        }
      ]
    },
    {
      "cell_type": "code",
      "source": [
        "cal1_1.increse()\n",
        "cal1_1.print_value()\n",
        "cal1_1.increse()\n",
        "cal1_1.print_value()"
      ],
      "metadata": {
        "colab": {
          "base_uri": "https://localhost:8080/"
        },
        "id": "E_beh9q2jGuA",
        "outputId": "6e16f35a-9cb0-4598-d3e1-439329ef324e"
      },
      "execution_count": 18,
      "outputs": [
        {
          "output_type": "stream",
          "name": "stdout",
          "text": [
            "The current value is 1\n",
            "The current value is 2\n"
          ]
        }
      ]
    },
    {
      "cell_type": "code",
      "source": [
        "cal1_1.reset()\n",
        "cal1_1.print_value()"
      ],
      "metadata": {
        "colab": {
          "base_uri": "https://localhost:8080/"
        },
        "id": "yoWRSIjNjIeH",
        "outputId": "ef189d39-5fb0-4590-b6a6-bf53b396dc5d"
      },
      "execution_count": 19,
      "outputs": [
        {
          "output_type": "stream",
          "name": "stdout",
          "text": [
            "The current value is 0\n"
          ]
        }
      ]
    },
    {
      "cell_type": "code",
      "source": [],
      "metadata": {
        "id": "KpjTXn6_jO9y"
      },
      "execution_count": null,
      "outputs": []
    },
    {
      "cell_type": "markdown",
      "source": [
        "### 스태틱/클래스 메서드(static/class method)\n",
        "\n",
        "* 클래스 레벨에서 호출하는 메서드로서 연산을 위한 속성 값이 필요 없다\n",
        "* 객체를 따로 생성할 필요 없이 클래스 이름으로 바로 메서드를 호출"
      ],
      "metadata": {
        "id": "oG9CUbewjg2Y"
      }
    },
    {
      "cell_type": "code",
      "source": [
        "class Calculate2:\n",
        "    @staticmethod\n",
        "    def add(x, y):\n",
        "        print(f\"x+y = {x+y}\")\n",
        "    @staticmethod\n",
        "    def sub(x, y):\n",
        "        print(f\"x-y = {x-y}\")\n",
        "    @staticmethod\n",
        "    def multiply(x, y):\n",
        "        print(f\"x*y = {x*y}\")\n",
        "    @staticmethod\n",
        "    def divide(x, y):\n",
        "        if y != 0:\n",
        "            print(f\"x/y = {x/y}\")\n",
        "        return None\n",
        "\n",
        "\n",
        "Calculate2.add(20, 10)\n",
        "Calculate2.sub(20, 10)\n",
        "Calculate2.multiply(20, 10)\n",
        "Calculate2.divide(20, 10)"
      ],
      "metadata": {
        "colab": {
          "base_uri": "https://localhost:8080/"
        },
        "id": "C-9I4-6Ujl8r",
        "outputId": "bfa5d1f5-5a4a-417f-88ed-3fa10c50a2d0"
      },
      "execution_count": 20,
      "outputs": [
        {
          "output_type": "stream",
          "name": "stdout",
          "text": [
            "x+y = 30\n",
            "x-y = 10\n",
            "x*y = 200\n",
            "x/y = 2.0\n"
          ]
        }
      ]
    },
    {
      "cell_type": "code",
      "source": [],
      "metadata": {
        "id": "6zQbhbVtjor6"
      },
      "execution_count": null,
      "outputs": []
    },
    {
      "cell_type": "markdown",
      "source": [
        "## 상속\n",
        "\n",
        "* 존에 정의한 클래스의 속성 및 메서드를 그대로 사용할 수 있도록 클래스 간에 물려주거나 받는 것을 의미\n",
        "* 중복된 메서드를 재정의할 필요가 없다는 장점\n",
        "\n",
        "### 부모 클래스와 자식 클래스\n",
        "* 상속해 주는 기존 클래스는 부모 클래스(Pararent class), 상위 클래스(Super class), 기초 클래스(Base class)라고 부릅니다.\n",
        "* 반대로 상속을 받는 클래스는 자식 클래스(Child class), 하위 클래스(Sub class), 파생 클래스(Derived class)라고 부릅니다."
      ],
      "metadata": {
        "id": "_MFhCRYGj3rd"
      }
    },
    {
      "cell_type": "code",
      "source": [
        "class SportsTeam:\n",
        "    def __init__ (self, team_name):\n",
        "        self.team_name= team_name\n",
        "        print(f\"{self.team_name} 팀에 대한 정보입니다.\")\n",
        "    def won(self, won):\n",
        "        print(f\"{self.team_name} 팀은 {won}회 승리하였습니다.\")\n",
        "    def loss(self, loss):\n",
        "        print(f\"{self.team_name} 팀은 {loss}회 패배하였습니다.\")\n",
        "    def draw(self, draw):\n",
        "        print(f\"{self.team_name} 팀은 {draw}회 비겼습니다.\")"
      ],
      "metadata": {
        "id": "oyOvM64wj5V_"
      },
      "execution_count": 21,
      "outputs": []
    },
    {
      "cell_type": "code",
      "source": [
        "class SoccerTeam(SportsTeam):\n",
        "  def __init__ (self, team_name):\n",
        "    self.team_name = team_name\n",
        "\n",
        "class BaseballTeam(SportsTeam):\n",
        "  def __init__ (self, team_name):\n",
        "    self.team_name = team_name"
      ],
      "metadata": {
        "id": "C4R3X980kMJ8"
      },
      "execution_count": 22,
      "outputs": []
    },
    {
      "cell_type": "code",
      "source": [
        "tth = SoccerTeam('Tottenham Hotspur')\n",
        "tth.won(33)\n",
        "tth.loss(5)\n",
        "tth.draw(5)\n",
        "\n",
        "lgt = BaseballTeam('LG Twins')\n",
        "lgt.won(11)\n",
        "lgt.loss(3)\n",
        "lgt.draw(0)"
      ],
      "metadata": {
        "colab": {
          "base_uri": "https://localhost:8080/"
        },
        "id": "I9q2BHS1keCu",
        "outputId": "ab46c574-5e83-4782-8e8f-303b29c3f302"
      },
      "execution_count": 23,
      "outputs": [
        {
          "output_type": "stream",
          "name": "stdout",
          "text": [
            "Tottenham Hotspur 팀은 33회 승리하였습니다.\n",
            "Tottenham Hotspur 팀은 5회 패배하였습니다.\n",
            "Tottenham Hotspur 팀은 5회 비겼습니다.\n",
            "LG Twins 팀은 11회 승리하였습니다.\n",
            "LG Twins 팀은 3회 패배하였습니다.\n",
            "LG Twins 팀은 0회 비겼습니다.\n"
          ]
        }
      ]
    },
    {
      "cell_type": "code",
      "source": [
        "class BaseballTeam(SportsTeam):\n",
        "    def __init__ (self, team_name):\n",
        "        self.team_name = team_name\n",
        "    def draw(self, draw):\n",
        "        print(f\"{self.team_name} 팀은 {draw}회 연장전에 돌입했습니다.\")"
      ],
      "metadata": {
        "id": "98xQ5QLsk8GR"
      },
      "execution_count": 24,
      "outputs": []
    },
    {
      "cell_type": "code",
      "source": [
        "lgt = BaseballTeam('LG Twins')\n",
        "lgt.won(11)\n",
        "lgt.loss(3)\n",
        "lgt.draw(0)"
      ],
      "metadata": {
        "colab": {
          "base_uri": "https://localhost:8080/"
        },
        "id": "0XOML-zrlG-v",
        "outputId": "24002a5b-0f0b-4573-df6f-d771fa11971a"
      },
      "execution_count": 25,
      "outputs": [
        {
          "output_type": "stream",
          "name": "stdout",
          "text": [
            "LG Twins 팀은 11회 승리하였습니다.\n",
            "LG Twins 팀은 3회 패배하였습니다.\n",
            "LG Twins 팀은 0회 연장전에 돌입했습니다.\n"
          ]
        }
      ]
    },
    {
      "cell_type": "code",
      "source": [
        "class SoccerTeam(SportsTeam):\n",
        "    def __init__ (self, team_name):\n",
        "        self.team_name = team_name\n",
        "    def draw(self, draw):\n",
        "        super().draw(draw)\n",
        "        print(f\"{self.team_name} 팀은 {draw}회 연장전에 돌입했습니다.\")"
      ],
      "metadata": {
        "id": "40OWFuKTlICl"
      },
      "execution_count": 26,
      "outputs": []
    },
    {
      "cell_type": "code",
      "source": [
        "tth = SoccerTeam('Tottenham Hotspur')\n",
        "tth.won(33)\n",
        "tth.loss(5)\n",
        "tth.draw(5)"
      ],
      "metadata": {
        "colab": {
          "base_uri": "https://localhost:8080/"
        },
        "id": "6nPOOQQJlTa5",
        "outputId": "16034477-53aa-40f7-8c3f-fa8a48cfc9e0"
      },
      "execution_count": 27,
      "outputs": [
        {
          "output_type": "stream",
          "name": "stdout",
          "text": [
            "Tottenham Hotspur 팀은 33회 승리하였습니다.\n",
            "Tottenham Hotspur 팀은 5회 패배하였습니다.\n",
            "Tottenham Hotspur 팀은 5회 비겼습니다.\n",
            "Tottenham Hotspur 팀은 5회 연장전에 돌입했습니다.\n"
          ]
        }
      ]
    },
    {
      "cell_type": "code",
      "source": [],
      "metadata": {
        "id": "F0YMZk17lTtG"
      },
      "execution_count": null,
      "outputs": []
    },
    {
      "cell_type": "code",
      "source": [],
      "metadata": {
        "id": "kb9cdVkC9lVL"
      },
      "execution_count": null,
      "outputs": []
    },
    {
      "cell_type": "markdown",
      "source": [
        "---\n",
        "## 참고문헌\n",
        "\n",
        "|번호|내용|링크|\n",
        "|--|--|--|\n",
        "|1|Google Colab| http://suanlab.com/|\n",
        "|2|클래스 사용방법|https://heytech.tistory.com/109|"
      ],
      "metadata": {
        "id": "mvraF0JX9mTr"
      }
    }
  ]
}