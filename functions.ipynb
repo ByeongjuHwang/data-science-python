{
  "nbformat": 4,
  "nbformat_minor": 0,
  "metadata": {
    "colab": {
      "provenance": [],
      "include_colab_link": true
    },
    "kernelspec": {
      "name": "python3",
      "display_name": "Python 3"
    },
    "language_info": {
      "name": "python"
    }
  },
  "cells": [
    {
      "cell_type": "markdown",
      "metadata": {
        "id": "view-in-github",
        "colab_type": "text"
      },
      "source": [
        "<a href=\"https://colab.research.google.com/github/ByeongjuHwang/data-science-python/blob/main/functions.ipynb\" target=\"_parent\"><img src=\"https://colab.research.google.com/assets/colab-badge.svg\" alt=\"Open In Colab\"/></a>"
      ]
    },
    {
      "cell_type": "markdown",
      "source": [
        "# 함수(function)\n",
        "\n",
        "* 파이썬 함수란, 특정한 기능을 수행하는 코드의 묶음입니다.\n",
        "* 함수를 사용하면 코드의 재사용성과 가독성을 높일 수 있습니다.\n",
        "\n",
        "\n",
        "**이번 강의에서는 파이썬 함수의 정의, 호출, 매개변수, 반환값, 스코프, 람다식 등에 대해 알아보겠습니다.**\n",
        "\n"
      ],
      "metadata": {
        "id": "TLBPcNzi3Yzz"
      }
    },
    {
      "cell_type": "markdown",
      "source": [
        "\n",
        "\n",
        "# 함수의 정의와 호출\n",
        "\n",
        "파이썬에서 함수를 정의하려면 def 키워드를 사용합니다. def 키워드 다음에는 함수의 이름과 괄호를 씁니다. 괄호 안에는 함수에 전달할 매개변수를 적을 수 있습니다. 그리고 콜론(:)을 붙이고 다음 줄부터 들여쓰기를 하면서 함수의 내용을 작성합니다.\n",
        "\n",
        "예를 들어, 두 수의 합을 구하는 함수를 정의해 보겠습니다.\n",
        "\n",
        "```python\n",
        "def add(a, b): # a와 b는 매개변수\n",
        "  c = a + b # a와 b의 합을 c에 저장\n",
        "  print(c) # c를 출력\n",
        "```\n"
      ],
      "metadata": {
        "id": "rfDX4jvq3lCZ"
      }
    },
    {
      "cell_type": "markdown",
      "source": [
        "## 함수 호출\n",
        "\n",
        "\n",
        "```python\n",
        "add(3, 5) # 3과 5는 인자\n",
        "```"
      ],
      "metadata": {
        "id": "g3HkPlO34C2J"
      }
    },
    {
      "cell_type": "code",
      "source": [
        "#두 수의 차를 구하는 함수 정의하기\n",
        "def diff(a, b):\n",
        "  result = a - b\n",
        "  return result\n",
        "\n",
        "print(diff(3, 7))"
      ],
      "metadata": {
        "id": "oLmGPzKi39gM",
        "colab": {
          "base_uri": "https://localhost:8080/"
        },
        "outputId": "128f8e01-8b60-4714-fd01-7e1a0f89afaa"
      },
      "execution_count": 1,
      "outputs": [
        {
          "output_type": "stream",
          "name": "stdout",
          "text": [
            "-4\n"
          ]
        }
      ]
    },
    {
      "cell_type": "markdown",
      "source": [
        "### 매개변수와 반환값이 없는 함수\n",
        "\n",
        "* 함수에 매개변수와 반환값이 없이 사용 가능\n",
        "* 함수를 호출하면 함수의 수행문이 실행"
      ],
      "metadata": {
        "id": "ZO9PBSCM4KU5"
      }
    },
    {
      "cell_type": "code",
      "source": [
        "def foo():\n",
        "  print(\"hello python!\")\n",
        "\n",
        "foo()\n",
        "foo()\n",
        "foo()"
      ],
      "metadata": {
        "id": "g-iWQSoR6V-h",
        "colab": {
          "base_uri": "https://localhost:8080/"
        },
        "outputId": "473916f2-19f9-4cfa-8b4b-fb8632b0bb6f"
      },
      "execution_count": 3,
      "outputs": [
        {
          "output_type": "stream",
          "name": "stdout",
          "text": [
            "hello python!\n",
            "hello python!\n",
            "hello python!\n"
          ]
        }
      ]
    },
    {
      "cell_type": "markdown",
      "source": [
        "### 매개변수만 있는 함수\n",
        "* 문자열 매개변수를 사용한 함수"
      ],
      "metadata": {
        "id": "eA6ixEQE6ZfP"
      }
    },
    {
      "cell_type": "code",
      "source": [
        "def txt(a, b):\n",
        "  if a > b:\n",
        "    print(a)\n",
        "  elif b > a:\n",
        "    print(b)\n",
        "  else:\n",
        "    print(\"a == b\")\n",
        "\n",
        "print(txt(3, 3))\n",
        "\n",
        "txt(3, 3)"
      ],
      "metadata": {
        "id": "H_PP7bDJ6brl",
        "colab": {
          "base_uri": "https://localhost:8080/"
        },
        "outputId": "c6a7ec9d-87ae-487a-891d-6e3f1ead9210"
      },
      "execution_count": 7,
      "outputs": [
        {
          "output_type": "stream",
          "name": "stdout",
          "text": [
            "a == b\n",
            "None\n",
            "a == b\n"
          ]
        }
      ]
    },
    {
      "cell_type": "markdown",
      "source": [
        "### 반환 값만 있는 함수\n",
        "* 문자열 반환 값을 사용한 함수"
      ],
      "metadata": {
        "id": "lWS5leaF6clU"
      }
    },
    {
      "cell_type": "code",
      "source": [
        "def rtn():\n",
        "  return 1\n",
        "\n",
        "print(rtn())"
      ],
      "metadata": {
        "id": "vTjzYwoc6fRT",
        "colab": {
          "base_uri": "https://localhost:8080/"
        },
        "outputId": "fa37270d-7f96-4492-8f28-ca5f40a62cfb"
      },
      "execution_count": 6,
      "outputs": [
        {
          "output_type": "stream",
          "name": "stdout",
          "text": [
            "1\n"
          ]
        }
      ]
    },
    {
      "cell_type": "code",
      "source": [],
      "metadata": {
        "id": "xRxJniyyNGOB"
      },
      "execution_count": null,
      "outputs": []
    },
    {
      "cell_type": "code",
      "source": [],
      "metadata": {
        "id": "CvHL24FFPU_Z"
      },
      "execution_count": null,
      "outputs": []
    },
    {
      "cell_type": "markdown",
      "source": [
        "### Immutable과 Mutable 타입의 인자\n",
        "\n",
        "* Immutable 자료형( 숫자, 문자열 등 기본 자료형과 쓰기가 불가능한 컨테이너인 tuple)은 함수내에서 값을 변경하더라고 호출측에서 값이 변경되지 않는다.\n",
        "* 즉, call by value 로 인자가 전달된다."
      ],
      "metadata": {
        "id": "rPoYmN0YPVVJ"
      }
    },
    {
      "cell_type": "code",
      "source": [
        "def foo(a, b):\n",
        "  a = 100\n",
        "  b = 200\n",
        "\n",
        "a = 1\n",
        "b = 2\n",
        "\n",
        "foo(a, b)\n",
        "print(a, b)"
      ],
      "metadata": {
        "id": "2nOLn-qrPfhu",
        "colab": {
          "base_uri": "https://localhost:8080/"
        },
        "outputId": "88847ada-0a09-4c2b-9d90-789338b41f20"
      },
      "execution_count": 8,
      "outputs": [
        {
          "output_type": "stream",
          "name": "stdout",
          "text": [
            "1 2\n"
          ]
        }
      ]
    },
    {
      "cell_type": "markdown",
      "source": [
        "* Mutable 자료형(쓰기가 가능한 컨테이너인 list, dictionary, ndarray 등)이 함수의 인자로 전달되는 경우 함수안에서 값이 변경될 수 있다는 점에 주의해야 한다.\n",
        "* C/C++ 관점에서 보면 call by reference로 인자를 전달하는 것이다."
      ],
      "metadata": {
        "id": "a4rVUAPNPf36"
      }
    },
    {
      "cell_type": "code",
      "source": [
        "def foo(x):\n",
        "  x.append(100)\n",
        "\n",
        "x = [1, 2, 3]\n",
        "foo(x)\n",
        "print(x)"
      ],
      "metadata": {
        "id": "BYbhKcMSPiuS",
        "colab": {
          "base_uri": "https://localhost:8080/"
        },
        "outputId": "d85a753c-8802-4792-f4eb-cc7121d34590"
      },
      "execution_count": 9,
      "outputs": [
        {
          "output_type": "stream",
          "name": "stdout",
          "text": [
            "[1, 2, 3, 100]\n"
          ]
        }
      ]
    },
    {
      "cell_type": "markdown",
      "source": [
        "### 매개변수(인자)의 개수가 정해지지 않았다면?\n",
        "\n",
        "`*arg` 와 `**kwargs` 사용\n",
        "\n"
      ],
      "metadata": {
        "id": "67CJ5ptFPwP6"
      }
    },
    {
      "cell_type": "code",
      "source": [
        "def add(*args):\n",
        "  r = 0\n",
        "  for i in args:\n",
        "    r = r + i\n",
        "  return r\n",
        "\n",
        "result = add(1, 2, 3, 4, 5, 6, 7)\n",
        "print(result)"
      ],
      "metadata": {
        "id": "8lkSjrHYQDMB",
        "colab": {
          "base_uri": "https://localhost:8080/"
        },
        "outputId": "93bfc9ac-0e21-4d00-d666-8f9c12c5fcf9"
      },
      "execution_count": 11,
      "outputs": [
        {
          "output_type": "stream",
          "name": "stdout",
          "text": [
            "28\n"
          ]
        }
      ]
    },
    {
      "cell_type": "markdown",
      "source": [
        "* `*args`에서 *는 여러개의 인자를 튜플로 묶어 args 변수로 함수로 전달하게 된다.\n",
        "\n",
        "* 위에서 arg=(1,2,3) 형태로 전달되게 된다. 일반 인자와도 같이 사용할 수 있는데 항상 뒤에 와야 한다.\n",
        "\n",
        "* def foo(x,*args) 형태이고,\n",
        "foo(1,2,3,4,5)로 호출했다면 x=1, args=(2,3,4,5)로 전달하는 식이다."
      ],
      "metadata": {
        "id": "xCsABWv4QDec"
      }
    },
    {
      "cell_type": "code",
      "source": [
        "#**kwargs는 값을 입력하면 자동으로 dictionary 형태로 변환하며, keyword argument로 값을 보낸다.\n",
        "def myfunc(**kwargs):\n",
        "  print(kwargs)\n",
        "  for key, value in kwargs.items():\n",
        "    print(key, '=', value)\n",
        "\n",
        "myfunc(a=1, b=2, c=3)"
      ],
      "metadata": {
        "id": "GuNL_QdlQE6p",
        "colab": {
          "base_uri": "https://localhost:8080/"
        },
        "outputId": "dc841c9e-989c-4622-ff06-9769095c63fb"
      },
      "execution_count": 14,
      "outputs": [
        {
          "output_type": "stream",
          "name": "stdout",
          "text": [
            "{'a': 1, 'b': 2, 'c': 3}\n",
            "a = 1\n",
            "b = 2\n",
            "c = 3\n"
          ]
        }
      ]
    },
    {
      "cell_type": "markdown",
      "source": [
        "## 예제\n",
        "\n",
        "## 피보나치 수열\n",
        "![1111111.png](data:image/png;base64,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)\n",
        "\n"
      ],
      "metadata": {
        "id": "lxn3xGEdT9Vo"
      }
    },
    {
      "cell_type": "code",
      "source": [
        "def fibo(n):\n",
        "  # a = 1, b = 1\n",
        "  a, b = 1, 1\n",
        "\n",
        "  if n == 1 or n == 2:\n",
        "    return 1\n",
        "\n",
        "  for i in range(1, n):\n",
        "    a, b = b, a + b # a = b, b = a + b\n",
        "    #f(n) = f(n - 1) + f(n - 2)\n",
        "    #f(n) = f(n - 2) + f(n - 3) + f(n - 3) + f(n - 4)\n",
        "\n",
        "    #f(n - 1) = f(n - 2) + f(n - 3)\n",
        "    #f(n - 2) = f(n - 3) + f(n - 4)\n",
        "  return a\n",
        "\n",
        "print(fibo(10))\n",
        "# 1 1 2 3 5 8 13 21 34 55"
      ],
      "metadata": {
        "id": "4k0IGn9wUTPV",
        "colab": {
          "base_uri": "https://localhost:8080/"
        },
        "outputId": "640da597-21d9-4dcc-cc2b-b91147939898"
      },
      "execution_count": 15,
      "outputs": [
        {
          "output_type": "stream",
          "name": "stdout",
          "text": [
            "55\n"
          ]
        }
      ]
    },
    {
      "cell_type": "markdown",
      "source": [
        "## 재귀함수\n",
        "\n",
        "* 함수에 자신의 함수를 다시 호출하여 사용"
      ],
      "metadata": {
        "id": "PhyaoVtrUZ0-"
      }
    },
    {
      "cell_type": "code",
      "source": [
        "def fib(n):\n",
        "  if n == 1 or n == 2:\n",
        "    return 1\n",
        "  else:\n",
        "    return fib(n - 1) + fib(n - 2)\n",
        "\n",
        "print(fib(10))"
      ],
      "metadata": {
        "id": "omtR1HJ1Ud-V",
        "colab": {
          "base_uri": "https://localhost:8080/"
        },
        "outputId": "0171edb9-d69b-479b-aba2-6eea185ccec4"
      },
      "execution_count": 16,
      "outputs": [
        {
          "output_type": "stream",
          "name": "stdout",
          "text": [
            "55\n"
          ]
        }
      ]
    }
  ]
}