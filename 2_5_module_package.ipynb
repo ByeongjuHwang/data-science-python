{
  "nbformat": 4,
  "nbformat_minor": 0,
  "metadata": {
    "colab": {
      "provenance": [],
      "include_colab_link": true
    },
    "kernelspec": {
      "name": "python3",
      "display_name": "Python 3"
    },
    "language_info": {
      "name": "python"
    }
  },
  "cells": [
    {
      "cell_type": "markdown",
      "metadata": {
        "id": "view-in-github",
        "colab_type": "text"
      },
      "source": [
        "<a href=\"https://colab.research.google.com/github/ByeongjuHwang/data-science-python/blob/main/2_5_module_package.ipynb\" target=\"_parent\"><img src=\"https://colab.research.google.com/assets/colab-badge.svg\" alt=\"Open In Colab\"/></a>"
      ]
    },
    {
      "cell_type": "code",
      "execution_count": null,
      "metadata": {
        "id": "6r-G9LbJmHMa"
      },
      "outputs": [],
      "source": []
    },
    {
      "cell_type": "markdown",
      "source": [
        "# 모듈(Modules)\n",
        "\n",
        "* Colab을 사용하면 Python 모듈과 패키지를 쉽게 설치하고 사용할 수 있습니다.\n",
        "\n",
        "+ 예를 들어, Numpy, Matplotlib, TensorFlow 등의 인기 있는 라이브러리를 Colab에서 바로 불러올 수 있습니다. Colab에서 모듈과 패키지를 설치하려면 셀 앞에 느낌표(!)를 붙여서 명령 줄 스크립트를 실행하면 됩니다. 예를 들어, 아래의 코드는 Colab에 pandas 패키지를 설치하는 방법입니다.\n",
        "\n",
        "`!pip install pandas`\n",
        "\n",
        "* Colab에서 이미 설치된 모듈과 패키지는 import 문을 사용하여 불러올 수 있습니다. 예를 들어, 아래의 코드는 Colab에서 Numpy 모듈을 불러오는 방법입니다.\n",
        "\n",
        "`import numpy as np`\n",
        "\n",
        "Colab은 Google Drive와 연동되어 있으므로, Drive에 저장된 파일을 Colab에서 불러올 수 있습니다. 예를 들어, 아래의 코드는 Drive에 저장된 my_module.py라는 모듈을 Colab에서 불러오는 방법입니다.\n",
        "\n",
        "```python\n",
        "from google.colab import drive\n",
        "drive.mount('/content/drive')\n",
        "import sys\n",
        "sys.path.append('/content/drive/My Drive')\n",
        "import my_module\n",
        "```\n"
      ],
      "metadata": {
        "id": "HNd9UFbqmSqX"
      }
    },
    {
      "cell_type": "code",
      "source": [
        "from google.colab import drive\n",
        "drive.mount('/content/drive')"
      ],
      "metadata": {
        "colab": {
          "base_uri": "https://localhost:8080/"
        },
        "id": "DrOlLQHddltD",
        "outputId": "2873f909-078f-49a3-b962-7d2d6b7b01db"
      },
      "execution_count": null,
      "outputs": [
        {
          "output_type": "stream",
          "name": "stdout",
          "text": [
            "Mounted at /content/drive\n"
          ]
        }
      ]
    },
    {
      "cell_type": "code",
      "source": [
        "import random"
      ],
      "metadata": {
        "id": "gg7zvEund3as"
      },
      "execution_count": null,
      "outputs": []
    },
    {
      "cell_type": "code",
      "source": [
        "for _ in range(10):\n",
        "  rv = random.random()\n",
        "  print(f\"{rv: .2f}\", end = ' ') # 소수점 둘째짜리까지 숫자를 가져옴\n",
        "  print(f\"{rv: .3f}\", end = ' ')"
      ],
      "metadata": {
        "colab": {
          "base_uri": "https://localhost:8080/"
        },
        "id": "XVge4gffd68m",
        "outputId": "1f376ac4-6264-419f-a15d-28c9b1010c75"
      },
      "execution_count": null,
      "outputs": [
        {
          "output_type": "stream",
          "name": "stdout",
          "text": [
            " 0.08  0.079  0.70  0.700  0.10  0.104  0.73  0.727  0.24  0.239  0.66  0.657  0.37  0.368  0.86  0.861  0.24  0.238  0.00  0.003 "
          ]
        }
      ]
    },
    {
      "cell_type": "code",
      "source": [
        "for _ in range(10):\n",
        "  rv = random.randint(0, 13)\n",
        "  print(f\"{rv}\",end=' ')"
      ],
      "metadata": {
        "colab": {
          "base_uri": "https://localhost:8080/"
        },
        "id": "uSF8KVQielNo",
        "outputId": "72a6687c-dacc-40fb-b958-7d2e815367f6"
      },
      "execution_count": null,
      "outputs": [
        {
          "output_type": "stream",
          "name": "stdout",
          "text": [
            "7 9 11 13 3 0 11 7 7 7 "
          ]
        }
      ]
    },
    {
      "cell_type": "code",
      "source": [
        "for _ in range(10):\n",
        "  rv = random.randrange(0, 20, 3)\n",
        "  print(f\"{rv}\",end=' ')"
      ],
      "metadata": {
        "colab": {
          "base_uri": "https://localhost:8080/"
        },
        "id": "rsOKL915e6O5",
        "outputId": "6d2a7ca3-2618-472b-f546-3dd4da18fe4b"
      },
      "execution_count": null,
      "outputs": [
        {
          "output_type": "stream",
          "name": "stdout",
          "text": [
            "0 18 3 6 18 12 15 15 9 15 "
          ]
        }
      ]
    },
    {
      "cell_type": "code",
      "source": [
        "random?"
      ],
      "metadata": {
        "id": "PN3-rmiTeUW8"
      },
      "execution_count": null,
      "outputs": []
    },
    {
      "cell_type": "code",
      "source": [],
      "metadata": {
        "id": "fBZodR3hejuJ"
      },
      "execution_count": null,
      "outputs": []
    },
    {
      "cell_type": "code",
      "source": [
        "import random\n",
        "for _ in range(10):\n",
        "  rv=random.random()\n",
        "  print(f\"{rv:.2f}\",end=' ')"
      ],
      "metadata": {
        "colab": {
          "base_uri": "https://localhost:8080/"
        },
        "id": "3IOC7G6ssaeg",
        "outputId": "ebc08998-c214-4823-ac94-03f8a88f20ba"
      },
      "execution_count": null,
      "outputs": [
        {
          "output_type": "stream",
          "name": "stdout",
          "text": [
            "0.21 0.47 0.30 0.40 0.95 0.27 0.43 0.60 0.08 0.04 "
          ]
        }
      ]
    },
    {
      "cell_type": "code",
      "source": [
        "import mysolver"
      ],
      "metadata": {
        "id": "zYe63XyjnFBy"
      },
      "execution_count": 17,
      "outputs": []
    },
    {
      "cell_type": "code",
      "source": [
        "def func(x):\n",
        "    return x*x-2*x-4\n",
        "\n",
        "def der(x):\n",
        "    return 2*x-2    # f(x), f'(x)\n",
        "\n",
        "xNewton = mysolver.solve_by_newton(func,der,10)\n",
        "xBisection = mysolver.solve_by_bisection(func,0,10)\n",
        "\n",
        "print('tol = ',mysolver.tol)\n",
        "print('x = ',xNewton, ', ', xBisection)"
      ],
      "metadata": {
        "colab": {
          "base_uri": "https://localhost:8080/",
          "height": 219
        },
        "id": "2snYIc2CnGyy",
        "outputId": "664327de-05e5-4c81-dcac-c7f756d69bd2"
      },
      "execution_count": 16,
      "outputs": [
        {
          "output_type": "error",
          "ename": "AttributeError",
          "evalue": "module 'mysolver' has no attribute 'solve_by_newton'",
          "traceback": [
            "\u001b[0;31m---------------------------------------------------------------------------\u001b[0m",
            "\u001b[0;31mAttributeError\u001b[0m                            Traceback (most recent call last)",
            "\u001b[0;32m<ipython-input-16-57e523502e8e>\u001b[0m in \u001b[0;36m<cell line: 7>\u001b[0;34m()\u001b[0m\n\u001b[1;32m      5\u001b[0m     \u001b[0;32mreturn\u001b[0m \u001b[0;36m2\u001b[0m\u001b[0;34m*\u001b[0m\u001b[0mx\u001b[0m\u001b[0;34m-\u001b[0m\u001b[0;36m2\u001b[0m    \u001b[0;31m# f(x), f'(x)\u001b[0m\u001b[0;34m\u001b[0m\u001b[0;34m\u001b[0m\u001b[0m\n\u001b[1;32m      6\u001b[0m \u001b[0;34m\u001b[0m\u001b[0m\n\u001b[0;32m----> 7\u001b[0;31m \u001b[0mxNewton\u001b[0m \u001b[0;34m=\u001b[0m \u001b[0mmysolver\u001b[0m\u001b[0;34m.\u001b[0m\u001b[0msolve_by_newton\u001b[0m\u001b[0;34m(\u001b[0m\u001b[0mfunc\u001b[0m\u001b[0;34m,\u001b[0m\u001b[0mder\u001b[0m\u001b[0;34m,\u001b[0m\u001b[0;36m10\u001b[0m\u001b[0;34m)\u001b[0m\u001b[0;34m\u001b[0m\u001b[0;34m\u001b[0m\u001b[0m\n\u001b[0m\u001b[1;32m      8\u001b[0m \u001b[0mxBisection\u001b[0m \u001b[0;34m=\u001b[0m \u001b[0mmysolver\u001b[0m\u001b[0;34m.\u001b[0m\u001b[0msolve_by_bisection\u001b[0m\u001b[0;34m(\u001b[0m\u001b[0mfunc\u001b[0m\u001b[0;34m,\u001b[0m\u001b[0;36m0\u001b[0m\u001b[0;34m,\u001b[0m\u001b[0;36m10\u001b[0m\u001b[0;34m)\u001b[0m\u001b[0;34m\u001b[0m\u001b[0;34m\u001b[0m\u001b[0m\n\u001b[1;32m      9\u001b[0m \u001b[0;34m\u001b[0m\u001b[0m\n",
            "\u001b[0;31mAttributeError\u001b[0m: module 'mysolver' has no attribute 'solve_by_newton'"
          ]
        }
      ]
    },
    {
      "cell_type": "markdown",
      "source": [
        "## 모듈 임포트 방법\n",
        "\n",
        "```python\n",
        "from mysolver import *\n",
        "from mysolver import solve_by_newton, tol\n",
        "import mysolver as solver\n",
        "from mysolver import solve_by_newton as solve\n",
        "```"
      ],
      "metadata": {
        "id": "uK3gYn69ncPj"
      }
    },
    {
      "cell_type": "code",
      "source": [],
      "metadata": {
        "id": "z1JiuSCAnJEW"
      },
      "execution_count": null,
      "outputs": []
    },
    {
      "cell_type": "code",
      "source": [
        "import fibo as fb\n",
        "\n",
        "print(fb.fibo(10))"
      ],
      "metadata": {
        "colab": {
          "base_uri": "https://localhost:8080/"
        },
        "id": "LhwJQP00nxyb",
        "outputId": "60f4c128-c3e2-4668-deb7-2825f9b67d90"
      },
      "execution_count": 4,
      "outputs": [
        {
          "output_type": "stream",
          "name": "stdout",
          "text": [
            "55\n"
          ]
        }
      ]
    },
    {
      "cell_type": "code",
      "source": [],
      "metadata": {
        "id": "aSgnV5hcnz1e"
      },
      "execution_count": null,
      "outputs": []
    },
    {
      "cell_type": "markdown",
      "source": [
        "# 패키지 (package)\n",
        "\n",
        "파이썬에서 패키지(package)는 모듈(module)을 구조화하는 방법입니다. 패키지는 모듈의 네임스페이스(namespace)를 구조화하고 모듈을 더 쉽게 재사용할 수 있도록 합니다. 패키지는 모듈과 서브패키지(subpackage)로 구성됩니다.\n",
        "\n",
        "패키지를 만드는 방법은 다음과 같습니다.\n",
        "\n",
        "1. 패키지 디렉터리를 만듭니다.\n",
        "2. `__init__.py` 파일을 만듭니다.\n",
        "3. 패키지에 필요한 모듈을 추가합니다.\n",
        "\n",
        "```python\n",
        "mypackage/\n",
        "    __init__.py\n",
        "    mymodule.py\n",
        "```\n",
        "\n",
        "위 코드에서 `mypackage`는 패키지 이름이며, `mymodule.py`는 패키지에 포함된 모듈입니다.\n"
      ],
      "metadata": {
        "id": "wQBLdPfIogNM"
      }
    },
    {
      "cell_type": "markdown",
      "source": [
        "### 예시 (pandas 패키지)\n",
        "\n",
        "pandas 패키지를 사용하려면 먼저 해당 패키지를 설치해야 합니다. 판다스는 파이썬에서 데이터를 다루기 위한 라이브러리로, 데이터를 효과적으로 처리할 수 있도록 도와줍니다. 판다스를 설치하려면 다음 명령을 실행합니다.\n",
        "\n",
        "```python\n",
        "pip install pandas\n",
        "```\n",
        "\n",
        "판다스 패키지를 사용하려면 다음과 같이 임포트합니다.\n",
        "\n",
        "```python\n",
        "import pandas as pd\n",
        "```\n",
        "\n",
        "위 코드에서 `pd`는 판다스의 약어입니다. 이제 판다스의 함수 등을 사용할 때는 앞에 `pd.`을 붙인 후 사용합니다.\n",
        "\n",
        "```python\n",
        "pd.function_name()\n",
        "```\n"
      ],
      "metadata": {
        "id": "xEzFPZGRpX_v"
      }
    },
    {
      "cell_type": "code",
      "source": [
        "import pandas as pd\n",
        "pd.DataFrame()\n",
        "i = 0\n",
        "df = pd.DataFrame({'name': ['Alice', 'Bob', 'Charlie'], 'age': [25, 30, 35]})\n",
        "df.to_csv('example.csv', index=False)\n",
        "\n",
        "df.index\n"
      ],
      "metadata": {
        "colab": {
          "base_uri": "https://localhost:8080/"
        },
        "id": "dn6Yfcm0oi8m",
        "outputId": "b704ccae-91d7-4c6a-c807-f4f550ad1b68"
      },
      "execution_count": 7,
      "outputs": [
        {
          "output_type": "execute_result",
          "data": {
            "text/plain": [
              "RangeIndex(start=0, stop=3, step=1)"
            ]
          },
          "metadata": {},
          "execution_count": 7
        }
      ]
    },
    {
      "cell_type": "code",
      "source": [
        "print(df)"
      ],
      "metadata": {
        "colab": {
          "base_uri": "https://localhost:8080/"
        },
        "id": "HNQHUdrBhpHB",
        "outputId": "c4dfa4ea-6163-455d-cef1-a13708075418"
      },
      "execution_count": 9,
      "outputs": [
        {
          "output_type": "stream",
          "name": "stdout",
          "text": [
            "      name  age\n",
            "0    Alice   25\n",
            "1      Bob   30\n",
            "2  Charlie   35\n"
          ]
        }
      ]
    },
    {
      "cell_type": "code",
      "source": [
        "!cat example.csv"
      ],
      "metadata": {
        "colab": {
          "base_uri": "https://localhost:8080/"
        },
        "id": "WQGLXN3volqG",
        "outputId": "741c492d-cfb1-4ffc-99ae-efb8b5fe024b"
      },
      "execution_count": 8,
      "outputs": [
        {
          "output_type": "stream",
          "name": "stdout",
          "text": [
            "name,age\n",
            "Alice,25\n",
            "Bob,30\n",
            "Charlie,35\n"
          ]
        }
      ]
    },
    {
      "cell_type": "code",
      "source": [
        "data = {'A': [45, 37, 42, 35, 39], 'B': [38, 31, 26, 28, 33], 'C': [10, 15, 17, 21, 12] }\n",
        "\n",
        "df = pd.DataFrame (data)\n",
        "\n",
        "corr_matrix = df.corr() # 상관계수\n",
        "print (corr_matrix)"
      ],
      "metadata": {
        "colab": {
          "base_uri": "https://localhost:8080/"
        },
        "id": "tRNYFT0Wozm7",
        "outputId": "db6c42ea-e8ea-4c24-8714-c238b274cd81"
      },
      "execution_count": 11,
      "outputs": [
        {
          "output_type": "stream",
          "name": "stdout",
          "text": [
            "          A         B         C\n",
            "A  1.000000  0.518457 -0.701886\n",
            "B  0.518457  1.000000 -0.860941\n",
            "C -0.701886 -0.860941  1.000000\n"
          ]
        }
      ]
    },
    {
      "cell_type": "code",
      "source": [
        "corr = df.corr()\n",
        "# cmap = color map\n",
        "corr.style.background_gradient(cmap='coolwarm')"
      ],
      "metadata": {
        "colab": {
          "base_uri": "https://localhost:8080/",
          "height": 143
        },
        "id": "dlFYVgElrZ5r",
        "outputId": "d131931a-cc09-4f70-ec77-30584675d98f"
      },
      "execution_count": 12,
      "outputs": [
        {
          "output_type": "execute_result",
          "data": {
            "text/plain": [
              "<pandas.io.formats.style.Styler at 0x7e702c604670>"
            ],
            "text/html": [
              "<style type=\"text/css\">\n",
              "#T_4ebec_row0_col0, #T_4ebec_row1_col1, #T_4ebec_row2_col2 {\n",
              "  background-color: #b40426;\n",
              "  color: #f1f1f1;\n",
              "}\n",
              "#T_4ebec_row0_col1 {\n",
              "  background-color: #f59d7e;\n",
              "  color: #000000;\n",
              "}\n",
              "#T_4ebec_row0_col2 {\n",
              "  background-color: #5470de;\n",
              "  color: #f1f1f1;\n",
              "}\n",
              "#T_4ebec_row1_col0 {\n",
              "  background-color: #f7a688;\n",
              "  color: #000000;\n",
              "}\n",
              "#T_4ebec_row1_col2, #T_4ebec_row2_col0, #T_4ebec_row2_col1 {\n",
              "  background-color: #3b4cc0;\n",
              "  color: #f1f1f1;\n",
              "}\n",
              "</style>\n",
              "<table id=\"T_4ebec\" class=\"dataframe\">\n",
              "  <thead>\n",
              "    <tr>\n",
              "      <th class=\"blank level0\" >&nbsp;</th>\n",
              "      <th id=\"T_4ebec_level0_col0\" class=\"col_heading level0 col0\" >A</th>\n",
              "      <th id=\"T_4ebec_level0_col1\" class=\"col_heading level0 col1\" >B</th>\n",
              "      <th id=\"T_4ebec_level0_col2\" class=\"col_heading level0 col2\" >C</th>\n",
              "    </tr>\n",
              "  </thead>\n",
              "  <tbody>\n",
              "    <tr>\n",
              "      <th id=\"T_4ebec_level0_row0\" class=\"row_heading level0 row0\" >A</th>\n",
              "      <td id=\"T_4ebec_row0_col0\" class=\"data row0 col0\" >1.000000</td>\n",
              "      <td id=\"T_4ebec_row0_col1\" class=\"data row0 col1\" >0.518457</td>\n",
              "      <td id=\"T_4ebec_row0_col2\" class=\"data row0 col2\" >-0.701886</td>\n",
              "    </tr>\n",
              "    <tr>\n",
              "      <th id=\"T_4ebec_level0_row1\" class=\"row_heading level0 row1\" >B</th>\n",
              "      <td id=\"T_4ebec_row1_col0\" class=\"data row1 col0\" >0.518457</td>\n",
              "      <td id=\"T_4ebec_row1_col1\" class=\"data row1 col1\" >1.000000</td>\n",
              "      <td id=\"T_4ebec_row1_col2\" class=\"data row1 col2\" >-0.860941</td>\n",
              "    </tr>\n",
              "    <tr>\n",
              "      <th id=\"T_4ebec_level0_row2\" class=\"row_heading level0 row2\" >C</th>\n",
              "      <td id=\"T_4ebec_row2_col0\" class=\"data row2 col0\" >-0.701886</td>\n",
              "      <td id=\"T_4ebec_row2_col1\" class=\"data row2 col1\" >-0.860941</td>\n",
              "      <td id=\"T_4ebec_row2_col2\" class=\"data row2 col2\" >1.000000</td>\n",
              "    </tr>\n",
              "  </tbody>\n",
              "</table>\n"
            ]
          },
          "metadata": {},
          "execution_count": 12
        }
      ]
    },
    {
      "cell_type": "code",
      "source": [
        "!pip install Faker"
      ],
      "metadata": {
        "colab": {
          "base_uri": "https://localhost:8080/"
        },
        "id": "eJKSjvw4rbfp",
        "outputId": "62a000bc-2625-4f18-fcf5-70fd48e15dfb"
      },
      "execution_count": 13,
      "outputs": [
        {
          "output_type": "stream",
          "name": "stdout",
          "text": [
            "Collecting Faker\n",
            "  Downloading Faker-25.0.1-py3-none-any.whl (1.8 MB)\n",
            "\u001b[2K     \u001b[90m━━━━━━━━━━━━━━━━━━━━━━━━━━━━━━━━━━━━━━━━\u001b[0m \u001b[32m1.8/1.8 MB\u001b[0m \u001b[31m8.0 MB/s\u001b[0m eta \u001b[36m0:00:00\u001b[0m\n",
            "\u001b[?25hRequirement already satisfied: python-dateutil>=2.4 in /usr/local/lib/python3.10/dist-packages (from Faker) (2.8.2)\n",
            "Requirement already satisfied: six>=1.5 in /usr/local/lib/python3.10/dist-packages (from python-dateutil>=2.4->Faker) (1.16.0)\n",
            "Installing collected packages: Faker\n",
            "Successfully installed Faker-25.0.1\n"
          ]
        }
      ]
    },
    {
      "cell_type": "code",
      "source": [
        "from faker import Faker # 가짜 데이터를 만드는 패키지\n",
        "\n",
        "fake = Faker()\n",
        "fake.name()"
      ],
      "metadata": {
        "colab": {
          "base_uri": "https://localhost:8080/",
          "height": 35
        },
        "id": "jG6RQe0Tujz8",
        "outputId": "5d3a059a-bcca-4a77-de61-50ea6f541203"
      },
      "execution_count": 14,
      "outputs": [
        {
          "output_type": "execute_result",
          "data": {
            "text/plain": [
              "'Jennifer Caldwell'"
            ],
            "application/vnd.google.colaboratory.intrinsic+json": {
              "type": "string"
            }
          },
          "metadata": {},
          "execution_count": 14
        }
      ]
    },
    {
      "cell_type": "code",
      "source": [
        "fake = Faker('ko-KR')\n",
        "fake.name()"
      ],
      "metadata": {
        "colab": {
          "base_uri": "https://localhost:8080/",
          "height": 35
        },
        "id": "0PUmnV9NuvA3",
        "outputId": "edb91b7c-4355-40b2-ac85-edabd77e6c91"
      },
      "execution_count": 15,
      "outputs": [
        {
          "output_type": "execute_result",
          "data": {
            "text/plain": [
              "'권서영'"
            ],
            "application/vnd.google.colaboratory.intrinsic+json": {
              "type": "string"
            }
          },
          "metadata": {},
          "execution_count": 15
        }
      ]
    },
    {
      "cell_type": "code",
      "source": [
        "fake.address()"
      ],
      "metadata": {
        "colab": {
          "base_uri": "https://localhost:8080/",
          "height": 35
        },
        "id": "1VEdtZlhuzSI",
        "outputId": "d52b78c3-d3c0-4bb9-e040-960d9a2fbae2"
      },
      "execution_count": 16,
      "outputs": [
        {
          "output_type": "execute_result",
          "data": {
            "text/plain": [
              "'충청남도 광주시 봉은사로 (지은김황리)'"
            ],
            "application/vnd.google.colaboratory.intrinsic+json": {
              "type": "string"
            }
          },
          "metadata": {},
          "execution_count": 16
        }
      ]
    },
    {
      "cell_type": "code",
      "source": [
        "test_data = [(fake.name(), fake.address()) for i in range(30)]"
      ],
      "metadata": {
        "id": "_ANqXGGru1eP"
      },
      "execution_count": 17,
      "outputs": []
    },
    {
      "cell_type": "code",
      "source": [
        "print(test_data)"
      ],
      "metadata": {
        "colab": {
          "base_uri": "https://localhost:8080/"
        },
        "id": "DfkuMxtzu_4u",
        "outputId": "a9610523-cb18-4ee3-ba1f-8dee325d75f0"
      },
      "execution_count": 18,
      "outputs": [
        {
          "output_type": "stream",
          "name": "stdout",
          "text": [
            "[('전지민', '광주광역시 광진구 양재천거리'), ('강지은', '제주특별자치도 태안군 테헤란29길'), ('홍예원', '대구광역시 광진구 도산대03길'), ('김영진', '서울특별시 양천구 잠실가 (미정이김면)'), ('송채원', '충청북도 논산시 테헤란616거리'), ('박지아', '광주광역시 용산구 압구정로'), ('박채원', '서울특별시 광진구 압구정길 (채원이서마을)'), ('성상훈', '제주특별자치도 안산시 역삼4거리 (혜진박마을)'), ('이순옥', '대구광역시 중랑구 가락6길'), ('김혜진', '울산광역시 서대문구 서초중앙길'), ('김예원', '부산광역시 중구 선릉가 (정웅최고면)'), ('김민서', '서울특별시 강서구 서초대998로 (정식김동)'), ('이영식', '세종특별자치시 서구 선릉959로'), ('김민준', '대구광역시 북구 백제고분67거리'), ('김승현', '경기도 성남시 수정구 석촌호수36거리 (진우김김읍)'), ('김영일', '부산광역시 용산구 영동대로'), ('김옥순', '세종특별자치시 광진구 양재천길'), ('김영미', '대구광역시 노원구 석촌호수88거리'), ('김서준', '대전광역시 북구 봉은사거리'), ('곽시우', '충청남도 안양시 삼성2길 (현지박마을)'), ('김진호', '강원도 여주시 서초대거리 (영수서마을)'), ('하지우', '경상남도 제천시 잠실거리'), ('황도현', '경상북도 횡성군 논현00거리'), ('김예원', '경상북도 아산시 강남대로 (수진조읍)'), ('최영호', '세종특별자치시 강북구 석촌호수길 (옥자정조동)'), ('김은영', '대구광역시 강남구 영동대2길 (상호이이면)'), ('박선영', '대구광역시 동구 삼성1가'), ('김수민', '세종특별자치시 강서구 테헤란81거리'), ('이지현', '제주특별자치도 단양군 논현로 (영환박리)'), ('박은서', '세종특별자치시 구로구 테헤란3가 (예원김강마을)')]\n"
          ]
        }
      ]
    },
    {
      "cell_type": "code",
      "source": [],
      "metadata": {
        "id": "VTeBQ-6pvBns"
      },
      "execution_count": null,
      "outputs": []
    },
    {
      "cell_type": "markdown",
      "source": [
        "# 연습문제\n",
        "\n",
        "* https://www.acmicpc.net/problem/2476\n",
        "* https://www.acmicpc.net/problem/2754\n",
        "* https://www.acmicpc.net/problem/11653\n"
      ],
      "metadata": {
        "id": "cZpB-wq2wZ1_"
      }
    },
    {
      "cell_type": "code",
      "source": [
        "# 2476 - 주사위 게임\n",
        "person = int(input()) # N\n",
        "answer = 0\n",
        "\n",
        "for _ in range(person):\n",
        "  a, b, c = map(int, input().split())\n",
        "\n",
        "  if a == b == c:\n",
        "    answer = max(10000 + a * 1000)\n",
        "  elif a == b:\n",
        "    answer = max(answer, 1000 + a * 100)\n",
        "  elif a == c:\n",
        "    answer = max(answer, 1000 + a * 100)\n",
        "  elif b == c:\n",
        "    answer = max(answer, 1000 + b * 100)\n",
        "  else:\n",
        "    answer = max(answer, 100 * max(a, b, c))\n",
        "\n",
        "print(answer)"
      ],
      "metadata": {
        "colab": {
          "base_uri": "https://localhost:8080/"
        },
        "id": "4emb0HipjMiO",
        "outputId": "a14f11ff-873b-467b-8ec4-e0c1b507693e"
      },
      "execution_count": 19,
      "outputs": [
        {
          "output_type": "stream",
          "name": "stdout",
          "text": [
            "3\n",
            "3 3 6\n",
            "6 2 2\n",
            "6 2 5\n",
            "1300\n"
          ]
        }
      ]
    },
    {
      "cell_type": "markdown",
      "source": [
        "어떤 사람의 C언어 성적이 주어졌을 때, 평점은 몇 점인지 출력하는 프로그램을 작성하시오.\n",
        "\n",
        "A+: 4.3, A0: 4.0, A-: 3.7\n",
        "\n",
        "B+: 3.3, B0: 3.0, B-: 2.7\n",
        "\n",
        "C+: 2.3, C0: 2.0, C-: 1.7\n",
        "\n",
        "D+: 1.3, D0: 1.0, D-: 0.7\n",
        "\n",
        "F: 0.0"
      ],
      "metadata": {
        "id": "nk2kTOIsl2NV"
      }
    },
    {
      "cell_type": "code",
      "source": [
        "# 2754 - 학점계산\n",
        "dic = {'A+':4.3, 'A0':4.0, 'A-':3.7,\n",
        "       'B+':3.3, 'B0':3.0, 'B-':2.7,\n",
        "       'C+':2.3, 'C0':2.0, 'C-':1.7,\n",
        "       'D+':1.3, 'D0':1.0, 'D-':0.7,\n",
        "       'F':0.0}\n",
        "grade = input()\n",
        "print(dic[grade])"
      ],
      "metadata": {
        "colab": {
          "base_uri": "https://localhost:8080/"
        },
        "id": "jEuHQwmplkUF",
        "outputId": "5fcd0290-754f-4011-d020-04e52b8b36a7"
      },
      "execution_count": 20,
      "outputs": [
        {
          "output_type": "stream",
          "name": "stdout",
          "text": [
            "C0\n",
            "2.0\n"
          ]
        }
      ]
    },
    {
      "cell_type": "code",
      "source": [
        "n = int(input())\n",
        "\n",
        "if n == 1:\n",
        "  print('')\n",
        "\n",
        "for i in range(2, n + 1):\n",
        "  if n % i == 0:\n",
        "    while n % i == 0:\n",
        "      print(i)\n",
        "      n = n / i\n",
        ""
      ],
      "metadata": {
        "colab": {
          "base_uri": "https://localhost:8080/"
        },
        "id": "uFC7D517mp73",
        "outputId": "192f53bb-1300-4ef1-9792-5042513e3e91"
      },
      "execution_count": 21,
      "outputs": [
        {
          "output_type": "stream",
          "name": "stdout",
          "text": [
            "72\n",
            "2\n",
            "2\n",
            "2\n",
            "3\n",
            "3\n"
          ]
        }
      ]
    }
  ]
}