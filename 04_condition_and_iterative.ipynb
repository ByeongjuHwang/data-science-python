{
  "nbformat": 4,
  "nbformat_minor": 0,
  "metadata": {
    "colab": {
      "provenance": [],
      "include_colab_link": true
    },
    "kernelspec": {
      "name": "python3",
      "display_name": "Python 3"
    }
  },
  "cells": [
    {
      "cell_type": "markdown",
      "metadata": {
        "id": "view-in-github",
        "colab_type": "text"
      },
      "source": [
        "<a href=\"https://colab.research.google.com/github/ByeongjuHwang/data-science-python/blob/main/04_condition_and_iterative.ipynb\" target=\"_parent\"><img src=\"https://colab.research.google.com/assets/colab-badge.svg\" alt=\"Open In Colab\"/></a>"
      ]
    },
    {
      "cell_type": "markdown",
      "metadata": {
        "id": "bg5ZXMV2sn1M"
      },
      "source": [
        "# 제어문(Control Statement)\n",
        "`edited 23.04.21`"
      ]
    },
    {
      "cell_type": "markdown",
      "metadata": {
        "id": "Lj_iZPKnCRP0"
      },
      "source": [
        "\n",
        "\n",
        "---\n",
        "\n"
      ]
    },
    {
      "cell_type": "markdown",
      "metadata": {
        "id": "zXbENjlMCrkU"
      },
      "source": [
        "## 조건문(Conditional Statement)\n"
      ]
    },
    {
      "cell_type": "markdown",
      "metadata": {
        "id": "QerabWfwCvtt"
      },
      "source": [
        "### if 문\n"
      ]
    },
    {
      "cell_type": "markdown",
      "metadata": {
        "id": "UkYuDgdYjW1p"
      },
      "source": [
        "* if 문을 이용한 미세먼지 측정\n",
        "  + 미세먼지 농도 pm\n",
        "  + 35 초과는 미세먼지 농도 나쁨"
      ]
    },
    {
      "cell_type": "code",
      "metadata": {
        "id": "22ALZ21LE60j",
        "colab": {
          "base_uri": "https://localhost:8080/"
        },
        "outputId": "676d596d-063d-43bb-81cf-83cb599cef11"
      },
      "source": [
        "pm = 40\n",
        "if pm > 35:\n",
        "  print(\"미세먼지 농도 나쁨\")"
      ],
      "execution_count": 1,
      "outputs": [
        {
          "output_type": "stream",
          "name": "stdout",
          "text": [
            "미세먼지 농도 나쁨\n"
          ]
        }
      ]
    },
    {
      "cell_type": "markdown",
      "metadata": {
        "id": "of4Jq8l-McX7"
      },
      "source": [
        "### if-else 문\n"
      ]
    },
    {
      "cell_type": "markdown",
      "metadata": {
        "id": "KBi_DsHtkj5R"
      },
      "source": [
        "* if-else 문을 이용한 미세먼지 측정\n",
        "  + 미세먼지 농도 pm\n",
        "  + 36 이상은 미세먼지 농도 나쁨\n",
        "  + 35 이하는 미세먼지 농도 좋음"
      ]
    },
    {
      "cell_type": "code",
      "metadata": {
        "id": "w4JB__zpL_BW",
        "colab": {
          "base_uri": "https://localhost:8080/"
        },
        "outputId": "386210b7-62e8-4842-9847-077f02817f44"
      },
      "source": [
        "pm = 35\n",
        "if pm >= 36:\n",
        "  print(\"미세먼지 농도 나쁨\")\n",
        "else:\n",
        "  print(\"미세먼지 농도 좋음\")"
      ],
      "execution_count": 2,
      "outputs": [
        {
          "output_type": "stream",
          "name": "stdout",
          "text": [
            "미세먼지 농도 좋음\n"
          ]
        }
      ]
    },
    {
      "cell_type": "markdown",
      "metadata": {
        "id": "lcdJvb_vFiKf"
      },
      "source": [
        "### if-elif-else 문\n"
      ]
    },
    {
      "cell_type": "markdown",
      "metadata": {
        "id": "DV4n1qxhnFIV"
      },
      "source": [
        "* if-elif-else 문을 이용한 미세먼지 측정\n",
        "  + 미세먼지 농도 pm\n",
        "  + 미세먼지 농도 0~15: 좋음\n",
        "  + 미세먼지 농도 16~35: 보통\n",
        "  + 미세먼지 농도 36~75: 나쁨\n",
        "  + 미세먼지 농도 76~: 매우나쁨"
      ]
    },
    {
      "cell_type": "code",
      "metadata": {
        "id": "xlo8NoTeF0dV",
        "colab": {
          "base_uri": "https://localhost:8080/"
        },
        "outputId": "b4619990-4ec7-47e3-847f-407627829623"
      },
      "source": [
        "pm = 70\n",
        "\n",
        "if pm <= 15:\n",
        "  print(\"좋음\")\n",
        "elif pm <= 35:\n",
        "  print(\"보통\")\n",
        "elif pm <= 75:\n",
        "  print(\"나쁨\")\n",
        "else:\n",
        "  print(\"매우나쁨\")"
      ],
      "execution_count": 3,
      "outputs": [
        {
          "output_type": "stream",
          "name": "stdout",
          "text": [
            "나쁨\n"
          ]
        }
      ]
    },
    {
      "cell_type": "markdown",
      "metadata": {
        "id": "PdkLJlqioT_b"
      },
      "source": [
        "### 중첩 if 문\n",
        "\n",
        "\n"
      ]
    },
    {
      "cell_type": "markdown",
      "metadata": {
        "id": "8JdYeATzowCy"
      },
      "source": [
        "* 중첩 if 문을 이용한 미세먼지 측정\n",
        "  + 미세먼지 농도 pm\n",
        "  + 미세먼지 농도 0~15: 좋음\n",
        "  + 미세먼지 농도 16~35: 보통\n",
        "  + 미세먼지 농도 36~75: 나쁨\n",
        "  + 미세먼지 농도 76~: 매우나쁨"
      ]
    },
    {
      "cell_type": "code",
      "metadata": {
        "id": "ZuYX5TCro3B9",
        "colab": {
          "base_uri": "https://localhost:8080/"
        },
        "outputId": "cb9cbcb5-d279-4055-acf5-91476c8e4b5b"
      },
      "source": [
        "pm = 80\n",
        "\n",
        "if pm <= 15:\n",
        "  print(\"좋음\")\n",
        "else:\n",
        "  if pm <= 35:\n",
        "    print(\"보통\")\n",
        "  else:\n",
        "    if pm <= 75:\n",
        "      print(\"나쁨\")\n",
        "    else:\n",
        "      if pm >= 76:\n",
        "        print(\"매우 나쁨\")"
      ],
      "execution_count": 4,
      "outputs": [
        {
          "output_type": "stream",
          "name": "stdout",
          "text": [
            "매우나쁨\n"
          ]
        }
      ]
    },
    {
      "cell_type": "markdown",
      "metadata": {
        "id": "sB6Li0FmU9eM"
      },
      "source": [
        "### if-pass 문\n",
        "\n",
        "* 조건문은 있지만 실행할 문장이 없는 경우, 오류가 발생하지 않도록 무시하고 넘어가는 기능"
      ]
    },
    {
      "cell_type": "code",
      "metadata": {
        "id": "iIOjo8LEVPqy"
      },
      "source": [
        "pm = 85\n",
        "\n",
        "if pm <= 15:\n",
        "  print(\"좋음\")\n",
        "elif pm <= 35:\n",
        "  print(\"보통\")\n",
        "elif pm <= 75:\n",
        "  print(\"나쁨\")\n",
        "elif pm >= 76:\n",
        "  print(\"매우나쁨\")\n",
        "else:\n",
        "  pass"
      ],
      "execution_count": null,
      "outputs": []
    },
    {
      "cell_type": "markdown",
      "metadata": {
        "id": "ERFC5XXnqTab"
      },
      "source": [
        "### if 조건 연산자\n",
        "\n",
        "* 비교연산자: <, >, ==, !=, >=, <=\n"
      ]
    },
    {
      "cell_type": "code",
      "metadata": {
        "id": "oON1NgdYvSVj",
        "colab": {
          "base_uri": "https://localhost:8080/"
        },
        "outputId": "e22eb69c-5047-4af5-c200-bd9c2171f03c"
      },
      "source": [
        "pm = 85\n",
        "\n",
        "if pm < 16:\n",
        "  print(\"좋음\")\n",
        "elif pm < 36:\n",
        "  print(\"보통\")\n",
        "elif pm < 76:\n",
        "  print(\"나쁨\")\n",
        "elif pm > 75:\n",
        "  print(\"매우나쁨\")\n",
        "else:\n",
        "  pass"
      ],
      "execution_count": 5,
      "outputs": [
        {
          "output_type": "stream",
          "name": "stdout",
          "text": [
            "매우나쁨\n"
          ]
        }
      ]
    },
    {
      "cell_type": "markdown",
      "metadata": {
        "id": "tsZNODf8vMdM"
      },
      "source": [
        "* 논리연산자: and, or, not"
      ]
    },
    {
      "cell_type": "code",
      "metadata": {
        "id": "xbhbbC_urU5t",
        "colab": {
          "base_uri": "https://localhost:8080/"
        },
        "outputId": "607385fe-29ac-436b-f8ab-32e0b284de83"
      },
      "source": [
        "human = True\n",
        "apple = True\n",
        "computer = True\n",
        "galaxy = False\n",
        "\n",
        "if human and apple:\n",
        "  print(\"사람이면서, 애플제품을 사용중입니다.\")\n",
        "\n",
        "if human or galaxy:\n",
        "  print(\"사람이거나 갤럭시제품을 사용중입니다.\")\n",
        "\n",
        "if not galaxy:\n",
        "  print(\"저는 갤럭시 제품을 사용하고 있지 않습니다.\")\n",
        "\n",
        "if not computer:\n",
        "  print(\"저는 컴퓨터를 사용하고 있지 않습니다.\")"
      ],
      "execution_count": 10,
      "outputs": [
        {
          "output_type": "stream",
          "name": "stdout",
          "text": [
            "사람이면서, 애플제품을 사용중입니다.\n",
            "사람이거나 갤럭시제품을 사용중입니다.\n",
            "저는 갤럭시 제품을 사용하고 있지 않습니다.\n"
          ]
        }
      ]
    },
    {
      "cell_type": "markdown",
      "metadata": {
        "id": "neifpa1BvNya"
      },
      "source": [
        "* 멤버연산자: in, not in\n",
        "\n",
        "```python\n",
        "list = ['one','two','three']\n",
        "\n",
        "if 'one' in list:\n",
        "  print(\"ONE\")\n",
        "\n",
        "if 'four' not in list:\n",
        "  print(\"no\")\n",
        "```"
      ]
    },
    {
      "cell_type": "code",
      "metadata": {
        "id": "WWu4uaX5rcTb",
        "colab": {
          "base_uri": "https://localhost:8080/"
        },
        "outputId": "1c78c028-7da8-41ec-a6b2-763410adb230"
      },
      "source": [
        "list = ['one','two','three']\n",
        "\n",
        "if 'one' in list:\n",
        "  print(\"ONE\")\n",
        "\n",
        "if 'four' not in list:\n",
        "  print(\"no\")"
      ],
      "execution_count": 11,
      "outputs": [
        {
          "output_type": "stream",
          "name": "stdout",
          "text": [
            "ONE\n",
            "no\n"
          ]
        }
      ]
    },
    {
      "cell_type": "markdown",
      "metadata": {
        "id": "0V1ky9ZMucnL"
      },
      "source": [
        "* 식별연산자: is, is not"
      ]
    },
    {
      "cell_type": "code",
      "metadata": {
        "id": "puETQb28t3ua",
        "colab": {
          "base_uri": "https://localhost:8080/"
        },
        "outputId": "a0c6abee-95b5-4c93-b575-d5327140423c"
      },
      "source": [
        "str = \"abc\"\n",
        "str_2 = \"abc\"\n",
        "str_3 = \"abcd\"\n",
        "\n",
        "if str is str_2:\n",
        "  print(\"str과 str_2는 같습니다.\")\n",
        "\n",
        "if str is not str_3:\n",
        "  print(\"str과 str_3는 다릅니다.\")"
      ],
      "execution_count": 13,
      "outputs": [
        {
          "output_type": "stream",
          "name": "stdout",
          "text": [
            "str과 str_2는 같습니다.\n",
            "str과 str_3는 다릅니다.\n"
          ]
        }
      ]
    },
    {
      "cell_type": "markdown",
      "metadata": {
        "id": "9iV-FsBWzZ0k"
      },
      "source": [
        "### 조건부 표현식(Conditional Expression)\n",
        "\n",
        "* 한 라인으로 조건식을 사용한 표현"
      ]
    },
    {
      "cell_type": "code",
      "metadata": {
        "id": "_oS5aQybzfxw",
        "colab": {
          "base_uri": "https://localhost:8080/"
        },
        "outputId": "18d0f539-f7fb-4974-867b-8083fc7a61fd"
      },
      "source": [
        "score = 75\n",
        "msg = \"pass\" if score >= 70 else \"탈락\"\n",
        "\n",
        "print(msg)"
      ],
      "execution_count": 14,
      "outputs": [
        {
          "output_type": "stream",
          "name": "stdout",
          "text": [
            "pass\n"
          ]
        }
      ]
    },
    {
      "cell_type": "markdown",
      "metadata": {
        "id": "iaXO0nIe4IsM"
      },
      "source": [
        "### [Lab] 학생 종류\n",
        "\n",
        "* 8세 미만 \"학생 아님\"\n",
        "* 14세 미만 \"초등학생\"\n",
        "* 17세 미만 \"중학생\"\n",
        "* 20세 미만 \"고등학생\"\n",
        "* 26세 미만 \"대학생\"\n",
        "* 그 외에 \"학생 아님\""
      ]
    },
    {
      "cell_type": "code",
      "metadata": {
        "id": "tiSoSbvB4yZa"
      },
      "source": [],
      "execution_count": null,
      "outputs": []
    },
    {
      "cell_type": "markdown",
      "metadata": {
        "id": "Xaqknnv_5weC"
      },
      "source": [
        "### [Lab] 학점 계산\n",
        "\n",
        "* 95점 이상 \"A+\"\n",
        "* 90점 이상 \"A\"\n",
        "* 85점 이상 \"B+\"\n",
        "* 80점 이상 \"B\"\n",
        "* 75점 이상 \"C+\"\n",
        "* 70점 이상 \"C\"\n",
        "* 65점 이상 \"D+\"\n",
        "* 60점 이상 \"D\"\n",
        "* 그 외 \"F\""
      ]
    },
    {
      "cell_type": "code",
      "metadata": {
        "id": "4fn4sB6a6BUL"
      },
      "source": [],
      "execution_count": null,
      "outputs": []
    },
    {
      "cell_type": "markdown",
      "metadata": {
        "id": "0BWIlqrPCr__"
      },
      "source": [
        "\n",
        "\n",
        "---\n",
        "\n"
      ]
    },
    {
      "cell_type": "markdown",
      "metadata": {
        "id": "ZfKg8LniN113"
      },
      "source": [
        "## 반복문(Repetitive Statement)\n"
      ]
    },
    {
      "cell_type": "markdown",
      "metadata": {
        "id": "tsxOiKAD7Lfw"
      },
      "source": [
        "### while 문\n"
      ]
    },
    {
      "cell_type": "markdown",
      "metadata": {
        "id": "q9SCeICMB32o"
      },
      "source": [
        "* while 문 예제: 1부터 10까지 반복"
      ]
    },
    {
      "cell_type": "code",
      "metadata": {
        "id": "zjBqbHUhPjUX",
        "colab": {
          "base_uri": "https://localhost:8080/"
        },
        "outputId": "3bcfb23f-70a5-4d6a-9c3a-265a5f80bcb2"
      },
      "source": [
        "i = 0\n",
        "\n",
        "while i < 10:\n",
        "  i = i + 1\n",
        "  print(i)"
      ],
      "execution_count": 17,
      "outputs": [
        {
          "output_type": "stream",
          "name": "stdout",
          "text": [
            "1\n",
            "2\n",
            "3\n",
            "4\n",
            "5\n",
            "6\n",
            "7\n",
            "8\n",
            "9\n",
            "10\n"
          ]
        }
      ]
    },
    {
      "cell_type": "markdown",
      "metadata": {
        "id": "GWKxC-EyB-ou"
      },
      "source": [
        "* while 문 예제: 1부터 10까지 더하기"
      ]
    },
    {
      "cell_type": "code",
      "metadata": {
        "id": "KamhbhLtBjyu",
        "colab": {
          "base_uri": "https://localhost:8080/"
        },
        "outputId": "1bb15ac0-7e3d-4976-bbfc-1c346a2168b7"
      },
      "source": [
        "j = 0\n",
        "sum = 0\n",
        "while j <= 10:\n",
        "  sum += j\n",
        "  j += 1\n",
        "\n",
        "print(sum)"
      ],
      "execution_count": 19,
      "outputs": [
        {
          "output_type": "stream",
          "name": "stdout",
          "text": [
            "55\n"
          ]
        }
      ]
    },
    {
      "cell_type": "markdown",
      "metadata": {
        "id": "fE4el4w8CVnn"
      },
      "source": [
        "### for 문\n"
      ]
    },
    {
      "cell_type": "markdown",
      "metadata": {
        "id": "Szg_RE0dDVUI"
      },
      "source": [
        "* 리스트 요소 반복"
      ]
    },
    {
      "cell_type": "code",
      "metadata": {
        "id": "q-6XmZ7pCKfu",
        "colab": {
          "base_uri": "https://localhost:8080/"
        },
        "outputId": "0a14e65d-f04e-4f68-b4e9-381f955a96ab"
      },
      "source": [
        "lst = [\"apple\", \"banana\", \"orange\"]\n",
        "\n",
        "for item in lst:\n",
        "  print(item)\n",
        "\n",
        "for i in range(3):\n",
        "  print(lst[i])"
      ],
      "execution_count": 21,
      "outputs": [
        {
          "output_type": "stream",
          "name": "stdout",
          "text": [
            "apple\n",
            "banana\n",
            "orange\n",
            "apple\n",
            "banana\n",
            "orange\n"
          ]
        }
      ]
    },
    {
      "cell_type": "markdown",
      "metadata": {
        "id": "Jxy-YCKaJy6U"
      },
      "source": [
        "* 튜플 요소 반복"
      ]
    },
    {
      "cell_type": "code",
      "metadata": {
        "id": "bPTK1Da9DifT",
        "colab": {
          "base_uri": "https://localhost:8080/"
        },
        "outputId": "24451d51-5105-412a-a14e-210e6767ea7a"
      },
      "source": [
        "tup = (\"apple\", \"banana\", \"orange\")\n",
        "\n",
        "for item in tup:\n",
        "  print(item)\n",
        "\n",
        "for j in range(3):\n",
        "  print(tup[j])"
      ],
      "execution_count": 23,
      "outputs": [
        {
          "output_type": "stream",
          "name": "stdout",
          "text": [
            "apple\n",
            "banana\n",
            "orange\n",
            "apple\n",
            "banana\n",
            "orange\n"
          ]
        }
      ]
    },
    {
      "cell_type": "markdown",
      "metadata": {
        "id": "-a5BBmWHJ08e"
      },
      "source": [
        "* 문자열 요소 반복"
      ]
    },
    {
      "cell_type": "code",
      "metadata": {
        "id": "sg2jzObGDk5u",
        "colab": {
          "base_uri": "https://localhost:8080/"
        },
        "outputId": "39add1e6-8c98-4988-f593-3f026182996a"
      },
      "source": [
        "stri = \"hello\"\n",
        "\n",
        "for item in stri:\n",
        "  print(item)"
      ],
      "execution_count": 24,
      "outputs": [
        {
          "output_type": "stream",
          "name": "stdout",
          "text": [
            "h\n",
            "e\n",
            "l\n",
            "l\n",
            "o\n"
          ]
        }
      ]
    },
    {
      "cell_type": "markdown",
      "metadata": {
        "id": "6bel7wU6EFp4"
      },
      "source": [
        "#### range()\n",
        "\n",
        "```python\n",
        "for 변수 in range(시작값, 마지막값, 증가값):\n",
        "  <문장>\n",
        "```\n"
      ]
    },
    {
      "cell_type": "code",
      "metadata": {
        "id": "sIV6ouO3D1Pj",
        "colab": {
          "base_uri": "https://localhost:8080/"
        },
        "outputId": "d8b483ac-b8d5-41a1-92d6-d7530266925e"
      },
      "source": [
        "lst = [\"apple\", \"banana\", \"orange\", \"grape\"]\n",
        "\n",
        "for item in range(0, 3, 2):\n",
        "  print(lst[item])\n",
        "\n",
        "print(\"\\n\")\n",
        "\n",
        "for item in range(0, 3):\n",
        "  print(lst[item])\n"
      ],
      "execution_count": 27,
      "outputs": [
        {
          "output_type": "stream",
          "name": "stdout",
          "text": [
            "apple\n",
            "orange\n",
            "\n",
            "\n",
            "apple\n",
            "banana\n",
            "orange\n"
          ]
        }
      ]
    },
    {
      "cell_type": "code",
      "metadata": {
        "id": "VtCQOfDpGG59"
      },
      "source": [],
      "execution_count": null,
      "outputs": []
    },
    {
      "cell_type": "markdown",
      "metadata": {
        "id": "1otcwtcWGU-Z"
      },
      "source": [
        "* 범위 반복 range를 이용한 구구단\n",
        "hint : {0}, {1}, {2}, .format(i,j,i*j)"
      ]
    },
    {
      "cell_type": "code",
      "metadata": {
        "id": "0AgNJV5LGJLf",
        "colab": {
          "base_uri": "https://localhost:8080/"
        },
        "outputId": "3cc0b485-fb4e-4b4a-bba0-5d143bd28fd9"
      },
      "source": [
        "for i in range(2, 10):\n",
        "  for j in range(1, 9):\n",
        "    print(\"{0} x {1} = {2}\".format(i, j, i*j))"
      ],
      "execution_count": 28,
      "outputs": [
        {
          "output_type": "stream",
          "name": "stdout",
          "text": [
            "2 x 1 = 2\n",
            "2 x 2 = 4\n",
            "2 x 3 = 6\n",
            "2 x 4 = 8\n",
            "2 x 5 = 10\n",
            "2 x 6 = 12\n",
            "2 x 7 = 14\n",
            "2 x 8 = 16\n",
            "3 x 1 = 3\n",
            "3 x 2 = 6\n",
            "3 x 3 = 9\n",
            "3 x 4 = 12\n",
            "3 x 5 = 15\n",
            "3 x 6 = 18\n",
            "3 x 7 = 21\n",
            "3 x 8 = 24\n",
            "4 x 1 = 4\n",
            "4 x 2 = 8\n",
            "4 x 3 = 12\n",
            "4 x 4 = 16\n",
            "4 x 5 = 20\n",
            "4 x 6 = 24\n",
            "4 x 7 = 28\n",
            "4 x 8 = 32\n",
            "5 x 1 = 5\n",
            "5 x 2 = 10\n",
            "5 x 3 = 15\n",
            "5 x 4 = 20\n",
            "5 x 5 = 25\n",
            "5 x 6 = 30\n",
            "5 x 7 = 35\n",
            "5 x 8 = 40\n",
            "6 x 1 = 6\n",
            "6 x 2 = 12\n",
            "6 x 3 = 18\n",
            "6 x 4 = 24\n",
            "6 x 5 = 30\n",
            "6 x 6 = 36\n",
            "6 x 7 = 42\n",
            "6 x 8 = 48\n",
            "7 x 1 = 7\n",
            "7 x 2 = 14\n",
            "7 x 3 = 21\n",
            "7 x 4 = 28\n",
            "7 x 5 = 35\n",
            "7 x 6 = 42\n",
            "7 x 7 = 49\n",
            "7 x 8 = 56\n",
            "8 x 1 = 8\n",
            "8 x 2 = 16\n",
            "8 x 3 = 24\n",
            "8 x 4 = 32\n",
            "8 x 5 = 40\n",
            "8 x 6 = 48\n",
            "8 x 7 = 56\n",
            "8 x 8 = 64\n",
            "9 x 1 = 9\n",
            "9 x 2 = 18\n",
            "9 x 3 = 27\n",
            "9 x 4 = 36\n",
            "9 x 5 = 45\n",
            "9 x 6 = 54\n",
            "9 x 7 = 63\n",
            "9 x 8 = 72\n"
          ]
        }
      ]
    },
    {
      "cell_type": "markdown",
      "metadata": {
        "id": "y9DVAjy0r5Ty"
      },
      "source": [
        "#### _ 기능\n",
        "- iterator 변수 할당을 하고싶지 않을 때 사용\n"
      ]
    },
    {
      "cell_type": "code",
      "metadata": {
        "id": "qv8HZNCTsDFf",
        "colab": {
          "base_uri": "https://localhost:8080/"
        },
        "outputId": "ff3ec2a2-7e66-4a1c-d44b-6eb4552491ec"
      },
      "source": [
        "for _ in range(3):\n",
        "  print(_) # 메모리를 할당하지 않음"
      ],
      "execution_count": 29,
      "outputs": [
        {
          "output_type": "stream",
          "name": "stdout",
          "text": [
            "0\n",
            "1\n",
            "2\n"
          ]
        }
      ]
    },
    {
      "cell_type": "code",
      "metadata": {
        "id": "pf8fIpSBsHZL",
        "colab": {
          "base_uri": "https://localhost:8080/"
        },
        "outputId": "d105df0b-e8ad-4139-e9fa-1dfe1b36ca83"
      },
      "source": [
        "lst = [1, 2, 3, 4, 5]\n",
        "\n",
        "for _ in range(5):\n",
        "  print(lst[_])"
      ],
      "execution_count": 30,
      "outputs": [
        {
          "output_type": "stream",
          "name": "stdout",
          "text": [
            "1\n",
            "2\n",
            "3\n",
            "4\n",
            "5\n"
          ]
        }
      ]
    },
    {
      "cell_type": "markdown",
      "metadata": {
        "id": "-t7UubcSKJHY"
      },
      "source": [
        "### else 문\n",
        "\n",
        "* 반복이 종료된 후에 한번 더 실행되는 문장"
      ]
    },
    {
      "cell_type": "code",
      "metadata": {
        "id": "clXMvxeyMFj_",
        "colab": {
          "base_uri": "https://localhost:8080/"
        },
        "outputId": "7430a503-07f9-46c6-a37f-189e5ce1bd5a"
      },
      "source": [
        "i = 0\n",
        "sum = 0\n",
        "\n",
        "while i < 10:\n",
        "  i += 1\n",
        "  sum += i\n",
        "else:\n",
        "  print(sum)"
      ],
      "execution_count": 31,
      "outputs": [
        {
          "output_type": "stream",
          "name": "stdout",
          "text": [
            "55\n"
          ]
        }
      ]
    },
    {
      "cell_type": "code",
      "metadata": {
        "id": "4B6-nPWEGjvG"
      },
      "source": [],
      "execution_count": null,
      "outputs": []
    },
    {
      "cell_type": "markdown",
      "metadata": {
        "id": "BlF9QvR5LTar"
      },
      "source": [
        "### break 문\n",
        "\n",
        "* 반복문 종료"
      ]
    },
    {
      "cell_type": "code",
      "metadata": {
        "id": "u0HvxKWvKSou",
        "colab": {
          "base_uri": "https://localhost:8080/"
        },
        "outputId": "a43fd002-0cfb-4cb9-dfdc-9e6f79365ad8"
      },
      "source": [
        "i = 0\n",
        "\n",
        "while i < 100:\n",
        "  print(i)\n",
        "  i += 1\n",
        "  if i > 50:\n",
        "    break"
      ],
      "execution_count": 32,
      "outputs": [
        {
          "output_type": "stream",
          "name": "stdout",
          "text": [
            "0\n",
            "1\n",
            "2\n",
            "3\n",
            "4\n",
            "5\n",
            "6\n",
            "7\n",
            "8\n",
            "9\n",
            "10\n",
            "11\n",
            "12\n",
            "13\n",
            "14\n",
            "15\n",
            "16\n",
            "17\n",
            "18\n",
            "19\n",
            "20\n",
            "21\n",
            "22\n",
            "23\n",
            "24\n",
            "25\n",
            "26\n",
            "27\n",
            "28\n",
            "29\n",
            "30\n",
            "31\n",
            "32\n",
            "33\n",
            "34\n",
            "35\n",
            "36\n",
            "37\n",
            "38\n",
            "39\n",
            "40\n",
            "41\n",
            "42\n",
            "43\n",
            "44\n",
            "45\n",
            "46\n",
            "47\n",
            "48\n",
            "49\n",
            "50\n"
          ]
        }
      ]
    },
    {
      "cell_type": "code",
      "metadata": {
        "id": "TJyNX_deMUvq"
      },
      "source": [],
      "execution_count": null,
      "outputs": []
    },
    {
      "cell_type": "markdown",
      "metadata": {
        "id": "m7jZ8oc8Mezu"
      },
      "source": [
        "### continue 문\n",
        "\n",
        "* 반복 조건문으로 이동"
      ]
    },
    {
      "cell_type": "code",
      "metadata": {
        "id": "MpTJ5WtPMbYm",
        "colab": {
          "base_uri": "https://localhost:8080/"
        },
        "outputId": "9fd8f60c-3261-4acc-fc8b-e9833b51441d"
      },
      "source": [
        "i = 0\n",
        "\n",
        "while i < 100:\n",
        "  i += 1\n",
        "  if i % 2 == 1:\n",
        "    continue\n",
        "  print(i)"
      ],
      "execution_count": 33,
      "outputs": [
        {
          "output_type": "stream",
          "name": "stdout",
          "text": [
            "2\n",
            "4\n",
            "6\n",
            "8\n",
            "10\n",
            "12\n",
            "14\n",
            "16\n",
            "18\n",
            "20\n",
            "22\n",
            "24\n",
            "26\n",
            "28\n",
            "30\n",
            "32\n",
            "34\n",
            "36\n",
            "38\n",
            "40\n",
            "42\n",
            "44\n",
            "46\n",
            "48\n",
            "50\n",
            "52\n",
            "54\n",
            "56\n",
            "58\n",
            "60\n",
            "62\n",
            "64\n",
            "66\n",
            "68\n",
            "70\n",
            "72\n",
            "74\n",
            "76\n",
            "78\n",
            "80\n",
            "82\n",
            "84\n",
            "86\n",
            "88\n",
            "90\n",
            "92\n",
            "94\n",
            "96\n",
            "98\n",
            "100\n"
          ]
        }
      ]
    },
    {
      "cell_type": "code",
      "metadata": {
        "id": "2oWKM2NDMqJ4"
      },
      "source": [],
      "execution_count": null,
      "outputs": []
    },
    {
      "cell_type": "markdown",
      "metadata": {
        "id": "qQoq1VqQMxdR"
      },
      "source": [
        "### 리스트 내포(List Comprehension)\n",
        "\n",
        "* 리스트 안에 for 문과 if 문 사용"
      ]
    },
    {
      "cell_type": "code",
      "metadata": {
        "id": "dYS40UmTMuHf"
      },
      "source": [],
      "execution_count": null,
      "outputs": []
    },
    {
      "cell_type": "markdown",
      "metadata": {
        "id": "BNJU3Dz8NEtW"
      },
      "source": [
        "### [Lab] 문자열 반전\n",
        "\n",
        "* 문자열을 역순으로 만들기\n",
        "\n",
        "```python\n",
        "string = 'Hello, World!'\n",
        "reversed_str = \"\".join(reversed(string))\n",
        "\n",
        "print(f'Original String: {string}')\n",
        "print(f'Reversed String: {reversed_str}')\n",
        "```"
      ]
    },
    {
      "cell_type": "code",
      "metadata": {
        "id": "vtOOAlwBM7Ls",
        "colab": {
          "base_uri": "https://localhost:8080/"
        },
        "outputId": "fa484d2e-63a6-40bd-c0a8-45f7a09d4dbb"
      },
      "source": [
        "string = 'Hello, World!'\n",
        "reversed_str = \"\".join(reversed(string))\n",
        "\n",
        "print(f'Original String: {string}')\n",
        "print(f'Reversed String: {reversed_str}')"
      ],
      "execution_count": null,
      "outputs": [
        {
          "output_type": "stream",
          "name": "stdout",
          "text": [
            "Original String: Hello, World!\n",
            "Reversed String: !dlroW ,olleH\n"
          ]
        }
      ]
    },
    {
      "cell_type": "markdown",
      "metadata": {
        "id": "e-5QZsGNXsrz"
      },
      "source": [
        "\n",
        "\n",
        "---\n",
        "\n"
      ]
    },
    {
      "cell_type": "markdown",
      "source": [
        "과제\n",
        "* 조건문\n",
        "1. https://www.acmicpc.net/problem/1330\n",
        "2. https://www.acmicpc.net/problem/9498\n",
        "3. https://www.acmicpc.net/problem/2753\n",
        "4. https://www.acmicpc.net/problem/14681\n",
        "5. https://www.acmicpc.net/problem/2884\n",
        "\n",
        "* 반복문\n",
        "1. https://www.acmicpc.net/problem/2739\n",
        "2. https://www.acmicpc.net/problem/8393\n",
        "3. https://www.acmicpc.net/problem/2438\n",
        "4. https://www.acmicpc.net/problem/2439"
      ],
      "metadata": {
        "id": "eIjllkgZ9hrw"
      }
    },
    {
      "cell_type": "code",
      "source": [],
      "metadata": {
        "id": "81I-wxvA87qE"
      },
      "execution_count": null,
      "outputs": []
    },
    {
      "cell_type": "markdown",
      "source": [
        "---\n",
        "## 참고문헌\n",
        "\n",
        "|번호|내용|링크|\n",
        "|--|--|--|\n",
        "|1|Google Colab| http://suanlab.com/|\n",
        "|2|Jupyter Notebook 등 python|https://wikidocs.net/book/1704|"
      ],
      "metadata": {
        "id": "Q16vQg9M89Ll"
      }
    },
    {
      "cell_type": "code",
      "source": [],
      "metadata": {
        "id": "aCsuDg8N89it"
      },
      "execution_count": null,
      "outputs": []
    }
  ]
}