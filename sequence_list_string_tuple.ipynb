{
  "nbformat": 4,
  "nbformat_minor": 0,
  "metadata": {
    "colab": {
      "provenance": [],
      "include_colab_link": true
    },
    "kernelspec": {
      "name": "python3",
      "display_name": "Python 3"
    }
  },
  "cells": [
    {
      "cell_type": "markdown",
      "metadata": {
        "id": "view-in-github",
        "colab_type": "text"
      },
      "source": [
        "<a href=\"https://colab.research.google.com/github/ByeongjuHwang/data-science-python/blob/main/sequence_list_string_tuple.ipynb\" target=\"_parent\"><img src=\"https://colab.research.google.com/assets/colab-badge.svg\" alt=\"Open In Colab\"/></a>"
      ]
    },
    {
      "cell_type": "markdown",
      "metadata": {
        "id": "bg5ZXMV2sn1M"
      },
      "source": [
        "# 리스트, 튜플, 세트, 딕셔너리"
      ]
    },
    {
      "cell_type": "markdown",
      "metadata": {
        "id": "Lj_iZPKnCRP0"
      },
      "source": [
        "\n",
        "\n",
        "---\n",
        "\n"
      ]
    },
    {
      "cell_type": "markdown",
      "metadata": {
        "id": "aKsMBDZohTu4"
      },
      "source": [
        "## 리스트(List)\n"
      ]
    },
    {
      "cell_type": "code",
      "metadata": {
        "id": "qLh1E-1_hxR_"
      },
      "source": [],
      "execution_count": null,
      "outputs": []
    },
    {
      "cell_type": "markdown",
      "metadata": {
        "id": "YApkWxX_Yo7K"
      },
      "source": [
        "### 리스트 인덱싱(List Indexing)\n",
        "\n",
        "* 리스트의 각 위치에 해당하는 값에 접근하기 위해서 주소 개념의 숫자를 사용"
      ]
    },
    {
      "cell_type": "code",
      "metadata": {
        "id": "DapQSgP4ZEM_",
        "colab": {
          "base_uri": "https://localhost:8080/"
        },
        "outputId": "c80b1a9e-2e52-427d-abf8-1db1d490df2c"
      },
      "source": [
        "lst = [1, 2, 3, \"one\", \"orange\"]\n",
        "print(lst)\n",
        "\n",
        "print(lst[0])\n",
        "print(lst[-1])\n",
        "\n",
        "print(lst[0:])\n",
        "print(lst[0:3])"
      ],
      "execution_count": 5,
      "outputs": [
        {
          "output_type": "stream",
          "name": "stdout",
          "text": [
            "[1, 2, 3, 'one', 'orange']\n",
            "1\n",
            "orange\n",
            "[1, 2, 3, 'one', 'orange']\n",
            "[1, 2, 3]\n"
          ]
        }
      ]
    },
    {
      "cell_type": "markdown",
      "metadata": {
        "id": "zudx4zfHdAvz"
      },
      "source": [
        "### 중첩 리스트 인덱싱(Nested List Indexing)\n",
        "\n",
        "* 리스트 안에 리스트가 있을 경우 인덱스 접근 방법"
      ]
    },
    {
      "cell_type": "code",
      "metadata": {
        "id": "4-AbAyBsdiu4",
        "colab": {
          "base_uri": "https://localhost:8080/"
        },
        "outputId": "9581a406-4998-468c-86c0-3764104eb2cb"
      },
      "source": [
        "lst2 = [1, 2, 3, [4, 5, 6]]\n",
        "print(lst2)\n",
        "\n",
        "print(lst2[1])\n",
        "print(lst2[3][1])\n",
        "\n",
        "print(lst2[3][0:2])"
      ],
      "execution_count": 9,
      "outputs": [
        {
          "output_type": "stream",
          "name": "stdout",
          "text": [
            "[1, 2, 3, [4, 5, 6]]\n",
            "2\n",
            "5\n",
            "[4, 5]\n"
          ]
        }
      ]
    },
    {
      "cell_type": "markdown",
      "metadata": {
        "id": "qYff3UXAd_gZ"
      },
      "source": [
        "### 리스트 슬라이싱(List Slicing)\n",
        "\n",
        "* 리스트의 인덱스를 통해서 부분만 가져올 때 사용\n",
        "\n",
        "```python\n",
        "print(lst[0:])\n",
        "print(lst[1:2])\n",
        "```"
      ]
    },
    {
      "cell_type": "code",
      "metadata": {
        "id": "XV6YtlM8eFZ7"
      },
      "source": [],
      "execution_count": null,
      "outputs": []
    },
    {
      "cell_type": "markdown",
      "metadata": {
        "id": "7BBUTCoWfRFY"
      },
      "source": [
        "### 중첩 리스트 슬라이싱(Nested List Slicing)\n",
        "\n",
        "* 중첩된 리스트에서 일부분만 인덱스를 통해서 가져올 때 사용"
      ]
    },
    {
      "cell_type": "code",
      "metadata": {
        "id": "KXqdQhpminGG"
      },
      "source": [],
      "execution_count": null,
      "outputs": []
    },
    {
      "cell_type": "markdown",
      "metadata": {
        "id": "q_9BaaINjg2l"
      },
      "source": [
        "### 리스트 연산자/함수(List Operators/Function)\n",
        "\n",
        "* 더하기 + 연산자\n",
        "* 곱하기 * 연산자\n",
        "* 리스트 길이를 구하는 `len()` 함수"
      ]
    },
    {
      "cell_type": "code",
      "metadata": {
        "id": "iylo3yUBjpBW",
        "colab": {
          "base_uri": "https://localhost:8080/"
        },
        "outputId": "44f8bfec-9d9e-4889-e071-196d25029a45"
      },
      "source": [
        "lst = [\"orange\", \"banana\", \"apple\"]\n",
        "print(lst)\n",
        "lst2 = [\"grape\"]\n",
        "print(lst2)\n",
        "\n",
        "# print(lst + lst2)\n",
        "lst3 = lst + lst2\n",
        "print(lst3)\n",
        "\n",
        "print(lst * 2)\n",
        "\n",
        "lst4 = [1, 2, 3, 4]\n",
        "print(lst4 * 5)\n",
        "\n",
        "print(len(lst), len(lst2), len(lst3))"
      ],
      "execution_count": 13,
      "outputs": [
        {
          "output_type": "stream",
          "name": "stdout",
          "text": [
            "['orange', 'banana', 'apple']\n",
            "['grape']\n",
            "['orange', 'banana', 'apple', 'grape']\n",
            "['orange', 'banana', 'apple', 'orange', 'banana', 'apple']\n",
            "[1, 2, 3, 4, 1, 2, 3, 4, 1, 2, 3, 4, 1, 2, 3, 4, 1, 2, 3, 4]\n",
            "3 1 4\n"
          ]
        }
      ]
    },
    {
      "cell_type": "markdown",
      "metadata": {
        "id": "XTQWWsI7j-g0"
      },
      "source": [
        "### 리스트 수정(List Modify)\n",
        "\n",
        "* 리스트 인덱스 주소를 이용한 값 수정"
      ]
    },
    {
      "cell_type": "code",
      "metadata": {
        "id": "ZAvCJXhPkDIN",
        "colab": {
          "base_uri": "https://localhost:8080/"
        },
        "outputId": "10d0c67c-ff98-4757-d01a-e1159fa6ddb8"
      },
      "source": [
        "print(lst)\n",
        "lst[0] = 1\n",
        "\n",
        "print(lst)"
      ],
      "execution_count": 15,
      "outputs": [
        {
          "output_type": "stream",
          "name": "stdout",
          "text": [
            "['orange', 'banana', 'apple']\n",
            "[1, 'banana', 'apple']\n"
          ]
        }
      ]
    },
    {
      "cell_type": "markdown",
      "metadata": {
        "id": "OolpuGcLlHrs"
      },
      "source": [
        "### 리스트 메소드(List Methods)\n"
      ]
    },
    {
      "cell_type": "markdown",
      "metadata": {
        "id": "m5xHM2-jlQh3"
      },
      "source": [
        "#### append()\n",
        "\n",
        "* 리스트 요소 추가 (가장 뒤에 추가됨)"
      ]
    },
    {
      "cell_type": "code",
      "metadata": {
        "id": "8AaEGUxSlU_a",
        "colab": {
          "base_uri": "https://localhost:8080/"
        },
        "outputId": "3c9ccbc5-0b68-40e9-9837-5ae141c1390a"
      },
      "source": [
        "lst = [1, 2, 3, 4, 5]\n",
        "print(lst)\n",
        "\n",
        "lst.append(6)\n",
        "print(lst)\n",
        "\n",
        "lst.append([7, 8, 9])\n",
        "print(lst)\n",
        "\n",
        "# lst.append(7, 8, 9) 한 가지의 값만 넣을 수 있다. 에러 발생"
      ],
      "execution_count": 19,
      "outputs": [
        {
          "output_type": "stream",
          "name": "stdout",
          "text": [
            "[1, 2, 3, 4, 5]\n",
            "[1, 2, 3, 4, 5, 6]\n",
            "[1, 2, 3, 4, 5, 6, [7, 8, 9]]\n"
          ]
        }
      ]
    },
    {
      "cell_type": "markdown",
      "metadata": {
        "id": "sIkoHvkJmQjD"
      },
      "source": [
        "#### sort()\n",
        "\n",
        "* 리스트 정렬"
      ]
    },
    {
      "cell_type": "code",
      "metadata": {
        "id": "XxCsua37mU7R",
        "colab": {
          "base_uri": "https://localhost:8080/"
        },
        "outputId": "1c7ed391-ef7b-41bb-c584-e67b4a94b711"
      },
      "source": [
        "lst2 = [10, 12, 17, 9, 8, 6]\n",
        "print(lst2)\n",
        "\n",
        "lst2.sort()\n",
        "print(lst2)"
      ],
      "execution_count": 22,
      "outputs": [
        {
          "output_type": "stream",
          "name": "stdout",
          "text": [
            "[10, 12, 17, 9, 8, 6]\n",
            "[6, 8, 9, 10, 12, 17]\n"
          ]
        }
      ]
    },
    {
      "cell_type": "markdown",
      "metadata": {
        "id": "YdfEfFUEmmBZ"
      },
      "source": [
        "#### reverse()\n",
        "\n",
        "* 리스트 요소 반전"
      ]
    },
    {
      "cell_type": "code",
      "metadata": {
        "id": "gaqQQwm0mrAs",
        "colab": {
          "base_uri": "https://localhost:8080/"
        },
        "outputId": "b75e5fee-d82c-4ba7-887b-ba17a93e43a2"
      },
      "source": [
        "lst2 = [10, 12, 17, 9, 8, 6]\n",
        "lst2.sort()\n",
        "\n",
        "lst2.reverse()\n",
        "print(lst2)"
      ],
      "execution_count": 24,
      "outputs": [
        {
          "output_type": "stream",
          "name": "stdout",
          "text": [
            "[17, 12, 10, 9, 8, 6]\n"
          ]
        }
      ]
    },
    {
      "cell_type": "markdown",
      "metadata": {
        "id": "B9GFsndRnwor"
      },
      "source": [
        "#### index()\n",
        "\n",
        "* 리스트의 요소 값에 대한 인덱스를 반환"
      ]
    },
    {
      "cell_type": "code",
      "metadata": {
        "id": "xs1Nlc_Hn1S3",
        "colab": {
          "base_uri": "https://localhost:8080/"
        },
        "outputId": "d9ba8314-6f9f-4405-cbf5-24b5714087fc"
      },
      "source": [
        "print(lst2)\n",
        "\n",
        "print(lst2.index(9))"
      ],
      "execution_count": 26,
      "outputs": [
        {
          "output_type": "stream",
          "name": "stdout",
          "text": [
            "[17, 12, 10, 9, 8, 6]\n",
            "3\n"
          ]
        }
      ]
    },
    {
      "cell_type": "markdown",
      "metadata": {
        "id": "nSuJKFcUn9UK"
      },
      "source": [
        "#### insert()\n",
        "\n",
        "* 리스트 요소 삽입 (특정 위치에 요소 삽입)"
      ]
    },
    {
      "cell_type": "code",
      "metadata": {
        "id": "3crOTMcLoAdE",
        "colab": {
          "base_uri": "https://localhost:8080/"
        },
        "outputId": "ccf5911c-8b59-4e1a-d0c6-6ee2c42e6814"
      },
      "source": [
        "lst3 = [1, 2, 3, 4, 5]\n",
        "print(lst3)\n",
        "\n",
        "lst3.append(6)\n",
        "print(lst3)\n",
        "\n",
        "lst3.insert(3, 11)\n",
        "print(lst3)"
      ],
      "execution_count": 31,
      "outputs": [
        {
          "output_type": "stream",
          "name": "stdout",
          "text": [
            "[1, 2, 3, 4, 5]\n",
            "[1, 2, 3, 4, 5, 6]\n",
            "[1, 2, 3, 11, 4, 5, 6]\n"
          ]
        }
      ]
    },
    {
      "cell_type": "code",
      "source": [],
      "metadata": {
        "id": "vn_aMvWIU-8u"
      },
      "execution_count": null,
      "outputs": []
    },
    {
      "cell_type": "markdown",
      "metadata": {
        "id": "u9_0Hh5NyXXh"
      },
      "source": [
        "#### remove()\n",
        "\n",
        "* 리스트 요소 제거\n",
        "* 지우고자 하는 값을 특정할 수 없을 때는 사용하지 말것"
      ]
    },
    {
      "cell_type": "code",
      "metadata": {
        "id": "55jgJF1ZyjIp",
        "colab": {
          "base_uri": "https://localhost:8080/"
        },
        "outputId": "bca6de06-9213-432d-856c-fb94f825596c"
      },
      "source": [
        "lst = [1, 2, 3, 4, 5, 6]\n",
        "print(lst)\n",
        "\n",
        "lst.remove(1)\n",
        "print(lst)"
      ],
      "execution_count": 35,
      "outputs": [
        {
          "output_type": "stream",
          "name": "stdout",
          "text": [
            "[1, 2, 3, 4, 5, 6]\n",
            "[2, 3, 4, 5, 6]\n"
          ]
        }
      ]
    },
    {
      "cell_type": "markdown",
      "metadata": {
        "id": "XE2VEcqyywE4"
      },
      "source": [
        "#### del\n",
        "\n",
        "* 리스트 요소 제거 연산"
      ]
    },
    {
      "cell_type": "code",
      "metadata": {
        "id": "AMDGcMSTy7RO"
      },
      "source": [
        "lst1 = ['abc', 'def', 3, 4, 5]\n",
        "print(lst1)\n",
        "\n",
        "del lst1\n",
        "# print(lst1) 에러발생: 리스트 전체를 삭제"
      ],
      "execution_count": null,
      "outputs": []
    },
    {
      "cell_type": "markdown",
      "metadata": {
        "id": "0R1KumQ8zPqj"
      },
      "source": [
        "#### pop()\n",
        "\n",
        "* 리스트 요소를 방출\n",
        "* 가장 마지막 요소를 방출"
      ]
    },
    {
      "cell_type": "code",
      "metadata": {
        "id": "AES7G1e-za4k",
        "colab": {
          "base_uri": "https://localhost:8080/"
        },
        "outputId": "ebd4c4c5-eb68-431b-fff5-8d2df03c4176"
      },
      "source": [
        "lst2 = [1, 2, 3, 5, 6, 7]\n",
        "print(lst2)\n",
        "\n",
        "lst2.pop()\n",
        "print(lst2)"
      ],
      "execution_count": 37,
      "outputs": [
        {
          "output_type": "stream",
          "name": "stdout",
          "text": [
            "[1, 2, 3, 5, 6, 7]\n",
            "[1, 2, 3, 5, 6]\n"
          ]
        }
      ]
    },
    {
      "cell_type": "markdown",
      "metadata": {
        "id": "BnKMoBtrzkUP"
      },
      "source": [
        "#### count()\n",
        "\n",
        "* 리스트 요소의 갯수 계산"
      ]
    },
    {
      "cell_type": "code",
      "metadata": {
        "id": "iv13N4uWznsm",
        "colab": {
          "base_uri": "https://localhost:8080/"
        },
        "outputId": "b8e44220-c60b-41ab-f408-8432059db36c"
      },
      "source": [
        "lst3 = [1, 1, 2, 3, 4, 5, 6, 10, 10, 12]\n",
        "print(lst3)\n",
        "\n",
        "print(lst3.count(1))\n",
        "print(lst3.count(10))\n",
        "print(lst3.count(12))"
      ],
      "execution_count": 40,
      "outputs": [
        {
          "output_type": "stream",
          "name": "stdout",
          "text": [
            "[1, 1, 2, 3, 4, 5, 6, 10, 10, 12]\n",
            "2\n",
            "2\n",
            "1\n"
          ]
        }
      ]
    },
    {
      "cell_type": "markdown",
      "metadata": {
        "id": "sI87ApvJzxcM"
      },
      "source": [
        "#### extend()\n",
        "\n",
        "* 리스트 확장"
      ]
    },
    {
      "cell_type": "code",
      "metadata": {
        "id": "0q944_Znz0XJ",
        "colab": {
          "base_uri": "https://localhost:8080/"
        },
        "outputId": "064f93a0-1a17-4412-e42f-2493ab86ff03"
      },
      "source": [
        "lst = [1, 2, 3]\n",
        "lst2 = ['a', 'b', 'c']\n",
        "print(lst, lst2)\n",
        "\n",
        "# lst2를 lst에 요소들을 전부 삽입\n",
        "lst.extend(lst2)\n",
        "print(lst)"
      ],
      "execution_count": 42,
      "outputs": [
        {
          "output_type": "stream",
          "name": "stdout",
          "text": [
            "[1, 2, 3] ['a', 'b', 'c']\n",
            "[1, 2, 3, 'a', 'b', 'c']\n"
          ]
        }
      ]
    },
    {
      "cell_type": "markdown",
      "metadata": {
        "id": "PzXHy8FxoW5l"
      },
      "source": [
        "\n",
        "\n",
        "---\n",
        "\n"
      ]
    },
    {
      "cell_type": "markdown",
      "metadata": {
        "id": "d38eO6_roX5E"
      },
      "source": [
        "## 튜플(Tuple)\n",
        "\n",
        "* 리스트와 유사하지만 변경 불가능한 시퀀스 자료형\n",
        "* 하나의 변수에 여러 값 할당 가능\n",
        "* ‘(‘와 ‘)’를 사용하여 표현"
      ]
    },
    {
      "cell_type": "code",
      "metadata": {
        "id": "1s9_Z7hQ0Ft0",
        "colab": {
          "base_uri": "https://localhost:8080/"
        },
        "outputId": "50c3730f-51d8-43bb-bd12-01f9040f418d"
      },
      "source": [
        "print((1,2,3))\n",
        "print(('one','two','three',(1,2)))"
      ],
      "execution_count": 1,
      "outputs": [
        {
          "output_type": "stream",
          "name": "stdout",
          "text": [
            "(1, 2, 3)\n",
            "('one', 'two', 'three', (1, 2))\n"
          ]
        }
      ]
    },
    {
      "cell_type": "markdown",
      "metadata": {
        "id": "e3TE7eO00UKJ"
      },
      "source": [
        "### 튜플 인덱싱(Tuple Indexing)\n",
        "\n",
        "* 튜플의 각 위치에 해당하는 값에 접근하기 위해서 주소 개념의 숫자를 사용"
      ]
    },
    {
      "cell_type": "code",
      "metadata": {
        "id": "_usfNdhc0a_7",
        "colab": {
          "base_uri": "https://localhost:8080/"
        },
        "outputId": "67985400-2afd-49d2-94b0-8f38a96e1eff"
      },
      "source": [
        "tup = ('one','two','three',(1,2))\n",
        "print(tup[1])\n"
      ],
      "execution_count": 5,
      "outputs": [
        {
          "output_type": "stream",
          "name": "stdout",
          "text": [
            "two\n"
          ]
        }
      ]
    },
    {
      "cell_type": "markdown",
      "metadata": {
        "id": "bFGXVZ8-05z2"
      },
      "source": [
        "### 중첩 튜플 인덱싱(Nested Tuple Indexing)\n",
        "\n",
        "* 튜플 안에 튜플이 중첩되어 있을 경우, 인덱스 접근 방법"
      ]
    },
    {
      "cell_type": "code",
      "metadata": {
        "id": "eq996H91097z",
        "colab": {
          "base_uri": "https://localhost:8080/"
        },
        "outputId": "379c8707-2b4a-42dc-dbbc-a20327de57f5"
      },
      "source": [
        "tup = ('one','two','three',(1,2))\n",
        "\n",
        "print(tup[1])\n",
        "print(tup[3][0])"
      ],
      "execution_count": 6,
      "outputs": [
        {
          "output_type": "stream",
          "name": "stdout",
          "text": [
            "two\n",
            "1\n"
          ]
        }
      ]
    },
    {
      "cell_type": "markdown",
      "metadata": {
        "id": "nYYF6L223714"
      },
      "source": [
        "### 튜플 슬라이싱(Tuple Slicing)\n",
        "\n",
        "* 튜플의 인덱스를 통해서 부분만 가져올 때 사용"
      ]
    },
    {
      "cell_type": "code",
      "metadata": {
        "id": "J0lgz4SR67d8",
        "colab": {
          "base_uri": "https://localhost:8080/"
        },
        "outputId": "edee9034-bac9-48a4-f7ff-11696dc5ec27"
      },
      "source": [
        "tup = ('one','two','three',(1,2))\n",
        "print(tup[0:])\n",
        "print(tup[2:4])"
      ],
      "execution_count": 9,
      "outputs": [
        {
          "output_type": "stream",
          "name": "stdout",
          "text": [
            "('one', 'two', 'three', (1, 2))\n",
            "('three', (1, 2))\n"
          ]
        }
      ]
    },
    {
      "cell_type": "markdown",
      "metadata": {
        "id": "ddlDZ-iH7JI0"
      },
      "source": [
        "### 중첩 튜플 슬라이싱(Nested Tuple Slicing)\n",
        "\n",
        "* 중첩된 튜플에서 일부분만 인덱스를 통해서 가져올 때 사용"
      ]
    },
    {
      "cell_type": "code",
      "metadata": {
        "id": "2GeXCqV37Nc3",
        "colab": {
          "base_uri": "https://localhost:8080/"
        },
        "outputId": "1ed29aa6-e2a3-48d5-fbc2-4161ac0a0c9c"
      },
      "source": [
        "tup = ('one','two','three',(1,2))\n",
        "print(tup[3])\n",
        "print(tup[3][0:1])"
      ],
      "execution_count": 13,
      "outputs": [
        {
          "output_type": "stream",
          "name": "stdout",
          "text": [
            "(1, 2)\n",
            "(1,)\n"
          ]
        }
      ]
    },
    {
      "cell_type": "markdown",
      "metadata": {
        "id": "V7H6n4Ps7u5M"
      },
      "source": [
        "### 튜플 연산자/함수(Tuple Operators/Function)\n",
        "\n",
        "* 더하기 + 연산\n",
        "* 곱하기 * 연산\n",
        "* 튜플 길이를 구하는 `len()` 함수\n",
        "\n"
      ]
    },
    {
      "cell_type": "code",
      "metadata": {
        "id": "QJstv3_T9LiY",
        "colab": {
          "base_uri": "https://localhost:8080/"
        },
        "outputId": "ed792b3a-386b-413b-99ec-3324564846be"
      },
      "source": [
        "tup = ('one','two','three')\n",
        "tup2 = (1, 2, 3)\n",
        "\n",
        "print(tup, tup2)\n",
        "print(tup + tup2)\n",
        "print(tup * 2)\n",
        "print(len(tup))\n",
        "print(len(tup * 3))"
      ],
      "execution_count": 18,
      "outputs": [
        {
          "output_type": "stream",
          "name": "stdout",
          "text": [
            "('one', 'two', 'three') (1, 2, 3)\n",
            "('one', 'two', 'three', 1, 2, 3)\n",
            "('one', 'two', 'three', 'one', 'two', 'three')\n",
            "3\n",
            "9\n"
          ]
        }
      ]
    },
    {
      "cell_type": "markdown",
      "metadata": {
        "id": "-drrAXi3xY3y"
      },
      "source": [
        "\n",
        "\n",
        "---\n",
        "\n"
      ]
    },
    {
      "cell_type": "markdown",
      "metadata": {
        "id": "zXbENjlMCrkU"
      },
      "source": [
        "## 세트(Set)\n",
        "\n",
        "* 데이터 중복을 허용하지 않는 구조\n",
        "* 순서가 없는 데이터 집합을 위한 구조\n",
        "* 인덱싱으로 값을 접근할 수 없음"
      ]
    },
    {
      "cell_type": "code",
      "metadata": {
        "id": "Rqyuh9dNC_FZ",
        "colab": {
          "base_uri": "https://localhost:8080/"
        },
        "outputId": "41452ca2-7841-4f22-e1fa-2b6d987a0600"
      },
      "source": [
        "se = {'one','two','three'}\n",
        "\n",
        "print(se)"
      ],
      "execution_count": 19,
      "outputs": [
        {
          "output_type": "stream",
          "name": "stdout",
          "text": [
            "{'two', 'one', 'three'}\n"
          ]
        }
      ]
    },
    {
      "cell_type": "markdown",
      "metadata": {
        "id": "QerabWfwCvtt"
      },
      "source": [
        "### 세트 연산자(Set Operators)\n",
        "\n",
        "* 교집합: &\n",
        "* 합집합: |\n",
        "* 차집합: -\n",
        "* XOR: ^"
      ]
    },
    {
      "cell_type": "code",
      "metadata": {
        "id": "22ALZ21LE60j",
        "colab": {
          "base_uri": "https://localhost:8080/"
        },
        "outputId": "dfa01abc-ecf5-4c68-ffe8-414d872b3fde"
      },
      "source": [
        "se1 = {10,20,30,40}\n",
        "se2 = {30,40,50,60,60,30}\n",
        "\n",
        "print(se1, se2) # 중복을 허용하지 않기 때문\n",
        "\n",
        "print(se1 & se2)\n",
        "print(se1 | se2)\n",
        "print(se1 - se2)\n",
        "print(se1 ^ se2)"
      ],
      "execution_count": 20,
      "outputs": [
        {
          "output_type": "stream",
          "name": "stdout",
          "text": [
            "{40, 10, 20, 30} {40, 50, 60, 30}\n",
            "{40, 30}\n",
            "{40, 10, 50, 20, 60, 30}\n",
            "{10, 20}\n",
            "{10, 50, 20, 60}\n"
          ]
        }
      ]
    },
    {
      "cell_type": "markdown",
      "metadata": {
        "id": "of4Jq8l-McX7"
      },
      "source": [
        "### 세트 메소드(Set Methods)\n",
        "\n",
        "* 교집합: intersection()\n",
        "* 합집합: union()\n",
        "* 차집합: difference()\n",
        "* xor: symmetric_difference()"
      ]
    },
    {
      "cell_type": "code",
      "metadata": {
        "id": "w4JB__zpL_BW",
        "colab": {
          "base_uri": "https://localhost:8080/"
        },
        "outputId": "f202edc2-d322-4803-887c-f1a11b441bf0"
      },
      "source": [
        "se1 = {10,20,30,40}\n",
        "se2 = {30,40,50,60,60,30}\n",
        "\n",
        "print(se1.intersection(se2))\n",
        "print(se1.union(se2))\n",
        "print(se1.difference(se2))\n",
        "print(se1.symmetric_difference(se2))"
      ],
      "execution_count": 24,
      "outputs": [
        {
          "output_type": "stream",
          "name": "stdout",
          "text": [
            "{40, 30}\n",
            "{40, 10, 50, 20, 60, 30}\n",
            "{10, 20}\n",
            "{10, 50, 20, 60}\n"
          ]
        }
      ]
    },
    {
      "cell_type": "markdown",
      "metadata": {
        "id": "lcdJvb_vFiKf"
      },
      "source": [
        "* 요소 추가: add()\n",
        "* 여러 요소 추가: update()\n",
        "* 요소 제거: remove()\n",
        "* 요소 제거: discard()\n",
        "* 모든 요소 제거: clear()"
      ]
    },
    {
      "cell_type": "code",
      "metadata": {
        "id": "xlo8NoTeF0dV",
        "colab": {
          "base_uri": "https://localhost:8080/"
        },
        "outputId": "25d89324-7c7d-4db1-c137-06468496372d"
      },
      "source": [
        "se1 = {10,20,30,40}\n",
        "print(se1)\n",
        "\n",
        "se1.add(60)\n",
        "print(se1)\n",
        "\n",
        "se1.update([50,60,70,80,90])\n",
        "print(se1)\n",
        "\n",
        "se1.remove(60)\n",
        "print(se1)\n",
        "\n",
        "se1.discard(10)\n",
        "print(se1)\n",
        "\n",
        "se1.clear()\n",
        "print(se1)"
      ],
      "execution_count": 31,
      "outputs": [
        {
          "output_type": "stream",
          "name": "stdout",
          "text": [
            "{40, 10, 20, 30}\n",
            "{40, 10, 20, 60, 30}\n",
            "{70, 40, 10, 80, 50, 20, 90, 60, 30}\n",
            "{70, 40, 10, 80, 50, 20, 90, 30}\n",
            "{70, 40, 80, 50, 20, 90, 30}\n",
            "set()\n"
          ]
        }
      ]
    },
    {
      "cell_type": "markdown",
      "metadata": {
        "id": "0BWIlqrPCr__"
      },
      "source": [
        "\n",
        "\n",
        "---\n",
        "\n"
      ]
    },
    {
      "cell_type": "markdown",
      "metadata": {
        "id": "ZfKg8LniN113"
      },
      "source": [
        "## 딕셔너리(Dictionary)\n",
        "\n",
        "* 키(key)와 값(value)의 쌍으로 구성된 데이터\n",
        "* 순서가 없는 데이터\n",
        "* 키를 통해 값을 얻음\n",
        "* 동일한 키가 있을경우 덮어씀"
      ]
    },
    {
      "cell_type": "code",
      "metadata": {
        "id": "Ij33VNSGN7_D",
        "colab": {
          "base_uri": "https://localhost:8080/"
        },
        "outputId": "a3366861-bc20-4880-96b5-94d8761d3919"
      },
      "source": [
        "dic = {1 : 'one', 2: 'two', 3: 'three'}\n",
        "print(dic)\n",
        "print(dic[1])\n",
        "print(dic[3])"
      ],
      "execution_count": 34,
      "outputs": [
        {
          "output_type": "stream",
          "name": "stdout",
          "text": [
            "{1: 'one', 2: 'two', 3: 'three'}\n",
            "one\n",
            "three\n"
          ]
        }
      ]
    },
    {
      "cell_type": "markdown",
      "metadata": {
        "id": "Vq8tORypPmPX"
      },
      "source": [
        "### 딕셔너리 요소 추가/삭제\n",
        "\n",
        "* 딕셔너리의 해당 키 값에 값을 추가하여 요소 추가\n",
        "* del을 이용하여 요소 제거"
      ]
    },
    {
      "cell_type": "code",
      "metadata": {
        "id": "zjBqbHUhPjUX",
        "colab": {
          "base_uri": "https://localhost:8080/"
        },
        "outputId": "b2f578e0-a310-434c-da43-e58cae96410c"
      },
      "source": [
        "dic = {1 : 'one', 2: 'two', 3: 'three'}\n",
        "print(dic)\n",
        "\n",
        "dic[4] = \"four\"\n",
        "print(dic)\n",
        "\n",
        "dic[1] = \"ONE\"\n",
        "print(dic)\n"
      ],
      "execution_count": 37,
      "outputs": [
        {
          "output_type": "stream",
          "name": "stdout",
          "text": [
            "{1: 'one', 2: 'two', 3: 'three'}\n",
            "{1: 'one', 2: 'two', 3: 'three', 4: 'four'}\n",
            "{1: 'ONE', 2: 'two', 3: 'three', 4: 'four'}\n"
          ]
        }
      ]
    },
    {
      "cell_type": "markdown",
      "metadata": {
        "id": "SlUKOt2tSatr"
      },
      "source": [
        "### 딕셔너리 메소드(Dictionary Methods)\n",
        "\n",
        "keys()\n",
        "values()\n",
        "items()\n",
        "get()\n",
        "pop()\n",
        "clear()\n"
      ]
    },
    {
      "cell_type": "code",
      "metadata": {
        "id": "JjF0-2zFP4vN",
        "colab": {
          "base_uri": "https://localhost:8080/"
        },
        "outputId": "6c7abf91-905a-492d-eec7-86a8c54c9af6"
      },
      "source": [
        "dic = {1 : 'one', 2: 'two'}\n",
        "dic[3] = 'three'\n",
        "\n",
        "print(dic.keys())\n",
        "print(dic.values())\n",
        "print(dic.items())\n",
        "print(dic.get(3))\n",
        "dic.pop(1)\n",
        "print(dic)\n",
        "dic.clear()\n",
        "print(dic)"
      ],
      "execution_count": 38,
      "outputs": [
        {
          "output_type": "stream",
          "name": "stdout",
          "text": [
            "dict_keys([1, 2, 3])\n",
            "dict_values(['one', 'two', 'three'])\n",
            "dict_items([(1, 'one'), (2, 'two'), (3, 'three')])\n",
            "three\n",
            "{2: 'two', 3: 'three'}\n",
            "{}\n"
          ]
        }
      ]
    },
    {
      "cell_type": "code",
      "metadata": {
        "id": "rn9piBODYUj_"
      },
      "source": [],
      "execution_count": null,
      "outputs": []
    },
    {
      "cell_type": "code",
      "source": [],
      "metadata": {
        "id": "DrWtHaAR9GFn"
      },
      "execution_count": null,
      "outputs": []
    },
    {
      "cell_type": "markdown",
      "source": [
        "---\n",
        "## 참고문헌\n",
        "\n",
        "|번호|내용|링크|\n",
        "|--|--|--|\n",
        "|1|Google Colab| http://suanlab.com/|\n",
        "|2|Jupyter Notebook 등 python|https://wikidocs.net/book/1704|"
      ],
      "metadata": {
        "id": "iNJav32f9GpX"
      }
    }
  ]
}